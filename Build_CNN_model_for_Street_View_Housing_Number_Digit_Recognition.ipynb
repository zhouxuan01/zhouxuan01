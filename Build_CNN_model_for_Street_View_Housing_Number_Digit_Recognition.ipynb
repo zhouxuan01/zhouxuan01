{
  "nbformat": 4,
  "nbformat_minor": 0,
  "metadata": {
    "colab": {
      "name": "Build CNN model for Street View Housing Number Digit Recognition.ipynb",
      "provenance": []
    },
    "kernelspec": {
      "name": "python3",
      "display_name": "Python 3"
    },
    "language_info": {
      "name": "python"
    }
  },
  "cells": [
    {
      "cell_type": "code",
      "execution_count": 9,
      "metadata": {
        "id": "yq8eZBGV6yj1"
      },
      "outputs": [],
      "source": [
        "import numpy as np\n",
        "import pandas as pd\n",
        "import matplotlib.pyplot as plt\n",
        "%matplotlib inline\n",
        "import seaborn as sns\n",
        "import warnings\n",
        "warnings.filterwarnings('ignore')\n",
        "\n",
        "from sklearn.model_selection import train_test_split\n",
        "from sklearn.preprocessing import MinMaxScaler\n",
        "\n",
        "import tensorflow as tf\n",
        "from tensorflow.keras.models import Sequential\n",
        "from tensorflow.keras.layers import Dense, Conv2D, MaxPool2D, BatchNormalization, Dropout, Flatten, LeakyReLU\n",
        "from tensorflow.keras.utils import to_categorical"
      ]
    },
    {
      "cell_type": "code",
      "source": [
        "from google.colab import drive\n",
        "drive.mount('/content/drive/')"
      ],
      "metadata": {
        "colab": {
          "base_uri": "https://localhost:8080/"
        },
        "id": "ROlEy6Qv7Dv8",
        "outputId": "6f8cbffc-b7ac-46c8-b6ad-153308d216a8"
      },
      "execution_count": 2,
      "outputs": [
        {
          "output_type": "stream",
          "name": "stdout",
          "text": [
            "Mounted at /content/drive/\n"
          ]
        }
      ]
    },
    {
      "cell_type": "code",
      "source": [
        "import h5py"
      ],
      "metadata": {
        "id": "7QwkvrvN7Krh"
      },
      "execution_count": 3,
      "outputs": []
    },
    {
      "cell_type": "code",
      "source": [
        "h5f = h5py.File('/content/drive/MyDrive/SVHN_single_grey1.h5')"
      ],
      "metadata": {
        "id": "M2zp0y427VWP"
      },
      "execution_count": 4,
      "outputs": []
    },
    {
      "cell_type": "code",
      "source": [
        "X_train = h5f['X_train'][:]\n",
        "y_train = h5f['y_train'][:]\n",
        "X_test = h5f['X_test'][:]\n",
        "y_test = h5f['y_test'][:]"
      ],
      "metadata": {
        "id": "ErIrxKiD7in7"
      },
      "execution_count": 5,
      "outputs": []
    },
    {
      "cell_type": "code",
      "source": [
        "# Close the file\n",
        "h5f.close()"
      ],
      "metadata": {
        "id": "nsvH64-c7tu4"
      },
      "execution_count": 6,
      "outputs": []
    },
    {
      "cell_type": "code",
      "source": [
        "len(X_train), len(X_test)"
      ],
      "metadata": {
        "colab": {
          "base_uri": "https://localhost:8080/"
        },
        "id": "j8266qrs8INr",
        "outputId": "c2a61339-b029-4818-c16a-3a845599a0a2"
      },
      "execution_count": 7,
      "outputs": [
        {
          "output_type": "execute_result",
          "data": {
            "text/plain": [
              "(42000, 18000)"
            ]
          },
          "metadata": {},
          "execution_count": 7
        }
      ]
    },
    {
      "cell_type": "markdown",
      "source": [
        "**Visualizing Images**"
      ],
      "metadata": {
        "id": "8qyFZ2t48POV"
      }
    },
    {
      "cell_type": "code",
      "source": [
        "for i in range (10):\n",
        "  plt.subplot(1, 10, i+1)\n",
        "  plt.imshow(X_train[i])\n",
        "plt.show()"
      ],
      "metadata": {
        "colab": {
          "base_uri": "https://localhost:8080/",
          "height": 80
        },
        "id": "3p4vhb6I8axg",
        "outputId": "175265a5-71b9-4c25-988e-818cfc2aa350"
      },
      "execution_count": 12,
      "outputs": [
        {
          "output_type": "display_data",
          "data": {
            "text/plain": [
              "<Figure size 432x288 with 10 Axes>"
            ],
            "image/png": "[encoded data removed]"
          },
          "metadata": {
            "needs_background": "light"
          }
        }
      ]
    },
    {
      "cell_type": "markdown",
      "source": [
        "***Data Preparation ***: the same as ANN model"
      ],
      "metadata": {
        "id": "tHxMZ7838snx"
      }
    },
    {
      "cell_type": "code",
      "source": [
        "print('Shape :', X_train[0].shape)"
      ],
      "metadata": {
        "colab": {
          "base_uri": "https://localhost:8080/"
        },
        "id": "cuAKd0S38MF_",
        "outputId": "18880d70-e0ad-4392-f369-b330d08225b4"
      },
      "execution_count": 13,
      "outputs": [
        {
          "output_type": "stream",
          "name": "stdout",
          "text": [
            "Shape : (32, 32)\n"
          ]
        }
      ]
    },
    {
      "cell_type": "code",
      "source": [
        "print('First image : \\n', X_train[0])"
      ],
      "metadata": {
        "colab": {
          "base_uri": "https://localhost:8080/"
        },
        "id": "dh9cHYeF83Me",
        "outputId": "ea1d0a9b-3485-4006-fe0e-13c94cdd5699"
      },
      "execution_count": 14,
      "outputs": [
        {
          "output_type": "stream",
          "name": "stdout",
          "text": [
            "First image : \n",
            " [[ 33.0704  30.2601  26.852  ...  71.4471  58.2204  42.9939]\n",
            " [ 25.2283  25.5533  29.9765 ... 113.0209 103.3639  84.2949]\n",
            " [ 26.2775  22.6137  40.4763 ... 113.3028 121.775  115.4228]\n",
            " ...\n",
            " [ 28.5502  36.212   45.0801 ...  24.1359  25.0927  26.0603]\n",
            " [ 38.4352  26.4733  23.2717 ...  28.1094  29.4683  30.0661]\n",
            " [ 50.2984  26.0773  24.0389 ...  49.6682  50.853   53.0377]]\n"
          ]
        }
      ]
    },
    {
      "cell_type": "code",
      "source": [
        "# Reshape and flatten the dataset\n",
        "X_train = X_train.reshape(X_train.shape[0], 32,32,1)\n",
        "X_test = X_test.reshape(X_test.shape[0], 32, 32, 1)"
      ],
      "metadata": {
        "id": "psy5BFOA87iy"
      },
      "execution_count": 15,
      "outputs": []
    },
    {
      "cell_type": "code",
      "source": [
        "# Normalize inputs\n",
        "X_train = X_train / 255\n",
        "X_test = X_test /255"
      ],
      "metadata": {
        "id": "fBNgKq6x9PhS"
      },
      "execution_count": 16,
      "outputs": []
    },
    {
      "cell_type": "code",
      "source": [
        "# New shape\n",
        "print('Training set :', X_train.shape, y_train.shape)\n",
        "print('Test set :', X_test.shape, y_test.shape)"
      ],
      "metadata": {
        "colab": {
          "base_uri": "https://localhost:8080/"
        },
        "id": "Mtsq9md79dPO",
        "outputId": "61e98768-2692-44c3-ad12-b8ab3c1c6217"
      },
      "execution_count": 17,
      "outputs": [
        {
          "output_type": "stream",
          "name": "stdout",
          "text": [
            "Training set : (42000, 32, 32, 1) (42000,)\n",
            "Test set : (18000, 32, 32, 1) (18000,)\n"
          ]
        }
      ]
    },
    {
      "cell_type": "code",
      "source": [
        "# One-hot encode output\n",
        "y_train = to_categorical(y_train)\n",
        "y_test = to_categorical(y_test)"
      ],
      "metadata": {
        "id": "UwQ0J3La9l3S"
      },
      "execution_count": 19,
      "outputs": []
    },
    {
      "cell_type": "markdown",
      "source": [
        "***Model Building ***: we are going to build a CNN model"
      ],
      "metadata": {
        "id": "4ES8rZtC90JJ"
      }
    },
    {
      "cell_type": "code",
      "source": [
        "np.random.seed(42)\n",
        "import random\n",
        "random.seed(42)\n",
        "tf.random.set_seed(42)"
      ],
      "metadata": {
        "id": "HVYLtWR59uHg"
      },
      "execution_count": 20,
      "outputs": []
    },
    {
      "cell_type": "markdown",
      "source": [
        "# For this CNN model, \n",
        "\n",
        "1. We are going to use padding 'same' for all layers\n",
        "2. LeakyReLU layer with slope equal to 0.1\n",
        "3. Max-pooling layer with a pool size of 2x2\n",
        "4. Flatten the output from the previous layer\n",
        "5. Final output layer with nodes equal to the number of classes and softmax activation\n",
        "6. Compile the model with the categorical_crossentropy loss, adam optimizers(learning_rate = 0.001), and accuracy metri"
      ],
      "metadata": {
        "id": "ogNsepfr-NSu"
      }
    },
    {
      "cell_type": "code",
      "source": [
        "from tensorflow.keras import losses\n",
        "from tensorflow.keras import optimizers"
      ],
      "metadata": {
        "id": "9X68xA4z-Bmg"
      },
      "execution_count": 21,
      "outputs": []
    },
    {
      "cell_type": "code",
      "source": [
        "model1 = Sequential()\n",
        "model1.add(Conv2D(filters = 16, kernel_size = (3,3), padding = 'same', input_shape = (32,32,1)))\n",
        "model1.add(LeakyReLU(0.1))\n",
        "model1.add(Conv2D(filters = 32, kernel_size = (3,3), padding = 'same'))\n",
        "model1.add(LeakyReLU(0.1))\n",
        "model1.add(MaxPool2D(pool_size = (2,2)))\n",
        "model1.add(Flatten())\n",
        "model1.add(Dense(32))\n",
        "model1.add(LeakyReLU(0.1))\n",
        "model1.add(Dense(10, activation = 'softmax'))\n"
      ],
      "metadata": {
        "id": "_yX7XxlY-_u3"
      },
      "execution_count": 29,
      "outputs": []
    },
    {
      "cell_type": "code",
      "source": [
        "adam = optimizers.Adam(learning_rate = 0.001)"
      ],
      "metadata": {
        "id": "chZKgY2Z_L5b"
      },
      "execution_count": 30,
      "outputs": []
    },
    {
      "cell_type": "code",
      "source": [
        "model1.compile(loss=losses.categorical_crossentropy, optimizer=adam, metrics=['accuracy'])"
      ],
      "metadata": {
        "id": "_5PxO5-jABre"
      },
      "execution_count": 32,
      "outputs": []
    },
    {
      "cell_type": "code",
      "source": [
        "model1.summary()"
      ],
      "metadata": {
        "colab": {
          "base_uri": "https://localhost:8080/"
        },
        "id": "NUUKqUimAHAB",
        "outputId": "b3f8e178-a257-4d68-ff67-f046fc144c85"
      },
      "execution_count": 33,
      "outputs": [
        {
          "output_type": "stream",
          "name": "stdout",
          "text": [
            "Model: \"sequential_7\"\n",
            "_________________________________________________________________\n",
            " Layer (type)                Output Shape              Param #   \n",
            "=================================================================\n",
            " conv2d_10 (Conv2D)          (None, 32, 32, 16)        160       \n",
            "                                                                 \n",
            " leaky_re_lu_7 (LeakyReLU)   (None, 32, 32, 16)        0         \n",
            "                                                                 \n",
            " conv2d_11 (Conv2D)          (None, 32, 32, 32)        4640      \n",
            "                                                                 \n",
            " leaky_re_lu_8 (LeakyReLU)   (None, 32, 32, 32)        0         \n",
            "                                                                 \n",
            " max_pooling2d_2 (MaxPooling  (None, 16, 16, 32)       0         \n",
            " 2D)                                                             \n",
            "                                                                 \n",
            " flatten_2 (Flatten)         (None, 8192)              0         \n",
            "                                                                 \n",
            " dense_1 (Dense)             (None, 32)                262176    \n",
            "                                                                 \n",
            " leaky_re_lu_9 (LeakyReLU)   (None, 32)                0         \n",
            "                                                                 \n",
            " dense_2 (Dense)             (None, 10)                330       \n",
            "                                                                 \n",
            "=================================================================\n",
            "Total params: 267,306\n",
            "Trainable params: 267,306\n",
            "Non-trainable params: 0\n",
            "_________________________________________________________________\n"
          ]
        }
      ]
    },
    {
      "cell_type": "code",
      "source": [
        ""
      ],
      "metadata": {
        "id": "2L-oB201AfJz"
      },
      "execution_count": null,
      "outputs": []
    }
  ]
}