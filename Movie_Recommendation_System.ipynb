{
  "nbformat": 4,
  "nbformat_minor": 0,
  "metadata": {
    "colab": {
      "name": "Movie Recommendation System.ipynb",
      "provenance": [],
      "authorship_tag": "ABX9TyMYEbRqFjs/46Bx8vC65vUJ",
      "include_colab_link": true
    },
    "kernelspec": {
      "name": "python3",
      "display_name": "Python 3"
    },
    "language_info": {
      "name": "python"
    }
  },
  "cells": [
    {
      "cell_type": "markdown",
      "metadata": {
        "id": "view-in-github",
        "colab_type": "text"
      },
      "source": [
        "<a href=\"https://colab.research.google.com/github/zhouxuan01/zhouxuan01/blob/main/Movie_Recommendation_System.ipynb\" target=\"_parent\"><img src=\"https://colab.research.google.com/assets/colab-badge.svg\" alt=\"Open In Colab\"/></a>"
      ]
    },
    {
      "cell_type": "code",
      "execution_count": 5,
      "metadata": {
        "colab": {
          "base_uri": "https://localhost:8080/"
        },
        "id": "6PbTQaWrVLPe",
        "outputId": "4f81f064-1545-4f0d-f01f-1b027ac7b3ac"
      },
      "outputs": [
        {
          "output_type": "stream",
          "name": "stdout",
          "text": [
            "Mounted at /content.drive\n"
          ]
        }
      ],
      "source": [
        "from google.colab import drive\n",
        "drive.mount('/content.drive')"
      ]
    },
    {
      "cell_type": "code",
      "source": [
        "! pip install surprise"
      ],
      "metadata": {
        "colab": {
          "base_uri": "https://localhost:8080/"
        },
        "id": "2Yte46TIVjkv",
        "outputId": "616694ae-c9b4-41a8-f2a7-a01cfcebd20d"
      },
      "execution_count": 6,
      "outputs": [
        {
          "output_type": "stream",
          "name": "stdout",
          "text": [
            "Looking in indexes: https://pypi.org/simple, https://us-python.pkg.dev/colab-wheels/public/simple/\n",
            "Collecting surprise\n",
            "  Downloading surprise-0.1-py2.py3-none-any.whl (1.8 kB)\n",
            "Collecting scikit-surprise\n",
            "  Downloading scikit-surprise-1.1.1.tar.gz (11.8 MB)\n",
            "\u001b[K     |████████████████████████████████| 11.8 MB 8.8 MB/s \n",
            "\u001b[?25hRequirement already satisfied: joblib>=0.11 in /usr/local/lib/python3.7/dist-packages (from scikit-surprise->surprise) (1.1.0)\n",
            "Requirement already satisfied: numpy>=1.11.2 in /usr/local/lib/python3.7/dist-packages (from scikit-surprise->surprise) (1.21.6)\n",
            "Requirement already satisfied: scipy>=1.0.0 in /usr/local/lib/python3.7/dist-packages (from scikit-surprise->surprise) (1.4.1)\n",
            "Requirement already satisfied: six>=1.10.0 in /usr/local/lib/python3.7/dist-packages (from scikit-surprise->surprise) (1.15.0)\n",
            "Building wheels for collected packages: scikit-surprise\n",
            "  Building wheel for scikit-surprise (setup.py) ... \u001b[?25l\u001b[?25hdone\n",
            "  Created wheel for scikit-surprise: filename=scikit_surprise-1.1.1-cp37-cp37m-linux_x86_64.whl size=1633746 sha256=c3dbf03642a6c63e2799a3fdae783a316382bff7e9a16c6669cb5814de6b5456\n",
            "  Stored in directory: /root/.cache/pip/wheels/76/44/74/b498c42be47b2406bd27994e16c5188e337c657025ab400c1c\n",
            "Successfully built scikit-surprise\n",
            "Installing collected packages: scikit-surprise, surprise\n",
            "Successfully installed scikit-surprise-1.1.1 surprise-0.1\n"
          ]
        }
      ]
    },
    {
      "cell_type": "code",
      "source": [
        "import pandas as pd\n",
        "import numpy as np\n",
        "import seaborn as sns\n",
        "import matplotlib.pyplot as plt\n",
        "import warnings\n",
        "warnings.filterwarnings('ignore')\n",
        "\n",
        "from collections import defaultdict\n",
        "\n",
        "from surprise import accuracy\n",
        "from surprise.reader import Reader\n",
        "from surprise.dataset import Dataset\n",
        "from surprise.model_selection import GridSearchCV\n",
        "from surprise.model_selection import train_test_split\n",
        "from surprise.prediction_algorithms.knns import KNNBasic\n",
        "from surprise.prediction_algorithms.matrix_factorization import SVD\n",
        "from surprise.model_selection import  KFold"
      ],
      "metadata": {
        "id": "RvWhfe5tVR4L"
      },
      "execution_count": 7,
      "outputs": []
    },
    {
      "cell_type": "code",
      "source": [
        "rating = pd.read_csv('/content.drive/MyDrive/ratings.csv')"
      ],
      "metadata": {
        "id": "ig9vWZGkVe_s"
      },
      "execution_count": 8,
      "outputs": []
    },
    {
      "cell_type": "code",
      "source": [
        "rating.info()"
      ],
      "metadata": {
        "colab": {
          "base_uri": "https://localhost:8080/"
        },
        "id": "mM8q34bfWCPW",
        "outputId": "6818d909-610a-414d-f3c9-4e46949d6971"
      },
      "execution_count": 9,
      "outputs": [
        {
          "output_type": "stream",
          "name": "stdout",
          "text": [
            "<class 'pandas.core.frame.DataFrame'>\n",
            "RangeIndex: 100004 entries, 0 to 100003\n",
            "Data columns (total 4 columns):\n",
            " #   Column     Non-Null Count   Dtype  \n",
            "---  ------     --------------   -----  \n",
            " 0   userId     100004 non-null  int64  \n",
            " 1   movieId    100004 non-null  int64  \n",
            " 2   rating     100004 non-null  float64\n",
            " 3   timestamp  100004 non-null  int64  \n",
            "dtypes: float64(1), int64(3)\n",
            "memory usage: 3.1 MB\n"
          ]
        }
      ]
    },
    {
      "cell_type": "code",
      "source": [
        "rating = rating.drop(['timestamp'], axis = 1)\n"
      ],
      "metadata": {
        "id": "px_SpCcSWFQA"
      },
      "execution_count": 10,
      "outputs": []
    },
    {
      "cell_type": "markdown",
      "source": [
        "# **Question 1: Exploring the dataset**"
      ],
      "metadata": {
        "id": "Mnqc2ZmCWgv6"
      }
    },
    {
      "cell_type": "markdown",
      "source": [
        "**Q 1.1 Print the top 5 rows of the dataset**"
      ],
      "metadata": {
        "id": "NwCShkHHWlIN"
      }
    },
    {
      "cell_type": "code",
      "source": [
        "rating.head()"
      ],
      "metadata": {
        "colab": {
          "base_uri": "https://localhost:8080/",
          "height": 204
        },
        "id": "S3A-4SDdWd2r",
        "outputId": "28366b80-9c0a-45c4-b37a-18a2cc4b84e9"
      },
      "execution_count": 11,
      "outputs": [
        {
          "output_type": "execute_result",
          "data": {
            "text/plain": [
              "   userId  movieId  rating\n",
              "0       1       31     2.5\n",
              "1       1     1029     3.0\n",
              "2       1     1061     3.0\n",
              "3       1     1129     2.0\n",
              "4       1     1172     4.0"
            ],
            "text/html": [
              "\n",
              "  <div id=\"df-89fa3b7b-0183-4222-96be-9b1311c275aa\">\n",
              "    <div class=\"colab-df-container\">\n",
              "      <div>\n",
              "<style scoped>\n",
              "    .dataframe tbody tr th:only-of-type {\n",
              "        vertical-align: middle;\n",
              "    }\n",
              "\n",
              "    .dataframe tbody tr th {\n",
              "        vertical-align: top;\n",
              "    }\n",
              "\n",
              "    .dataframe thead th {\n",
              "        text-align: right;\n",
              "    }\n",
              "</style>\n",
              "<table border=\"1\" class=\"dataframe\">\n",
              "  <thead>\n",
              "    <tr style=\"text-align: right;\">\n",
              "      <th></th>\n",
              "      <th>userId</th>\n",
              "      <th>movieId</th>\n",
              "      <th>rating</th>\n",
              "    </tr>\n",
              "  </thead>\n",
              "  <tbody>\n",
              "    <tr>\n",
              "      <th>0</th>\n",
              "      <td>1</td>\n",
              "      <td>31</td>\n",
              "      <td>2.5</td>\n",
              "    </tr>\n",
              "    <tr>\n",
              "      <th>1</th>\n",
              "      <td>1</td>\n",
              "      <td>1029</td>\n",
              "      <td>3.0</td>\n",
              "    </tr>\n",
              "    <tr>\n",
              "      <th>2</th>\n",
              "      <td>1</td>\n",
              "      <td>1061</td>\n",
              "      <td>3.0</td>\n",
              "    </tr>\n",
              "    <tr>\n",
              "      <th>3</th>\n",
              "      <td>1</td>\n",
              "      <td>1129</td>\n",
              "      <td>2.0</td>\n",
              "    </tr>\n",
              "    <tr>\n",
              "      <th>4</th>\n",
              "      <td>1</td>\n",
              "      <td>1172</td>\n",
              "      <td>4.0</td>\n",
              "    </tr>\n",
              "  </tbody>\n",
              "</table>\n",
              "</div>\n",
              "      <button class=\"colab-df-convert\" onclick=\"convertToInteractive('df-89fa3b7b-0183-4222-96be-9b1311c275aa')\"\n",
              "              title=\"Convert this dataframe to an interactive table.\"\n",
              "              style=\"display:none;\">\n",
              "        \n",
              "  <svg xmlns=\"http://www.w3.org/2000/svg\" height=\"24px\"viewBox=\"0 0 24 24\"\n",
              "       width=\"24px\">\n",
              "    <path d=\"M0 0h24v24H0V0z\" fill=\"none\"/>\n",
              "    <path d=\"M18.56 5.44l.94 2.06.94-2.06 2.06-.94-2.06-.94-.94-2.06-.94 2.06-2.06.94zm-11 1L8.5 8.5l.94-2.06 2.06-.94-2.06-.94L8.5 2.5l-.94 2.06-2.06.94zm10 10l.94 2.06.94-2.06 2.06-.94-2.06-.94-.94-2.06-.94 2.06-2.06.94z\"/><path d=\"M17.41 7.96l-1.37-1.37c-.4-.4-.92-.59-1.43-.59-.52 0-1.04.2-1.43.59L10.3 9.45l-7.72 7.72c-.78.78-.78 2.05 0 2.83L4 21.41c.39.39.9.59 1.41.59.51 0 1.02-.2 1.41-.59l7.78-7.78 2.81-2.81c.8-.78.8-2.07 0-2.86zM5.41 20L4 18.59l7.72-7.72 1.47 1.35L5.41 20z\"/>\n",
              "  </svg>\n",
              "      </button>\n",
              "      \n",
              "  <style>\n",
              "    .colab-df-container {\n",
              "      display:flex;\n",
              "      flex-wrap:wrap;\n",
              "      gap: 12px;\n",
              "    }\n",
              "\n",
              "    .colab-df-convert {\n",
              "      background-color: #E8F0FE;\n",
              "      border: none;\n",
              "      border-radius: 50%;\n",
              "      cursor: pointer;\n",
              "      display: none;\n",
              "      fill: #1967D2;\n",
              "      height: 32px;\n",
              "      padding: 0 0 0 0;\n",
              "      width: 32px;\n",
              "    }\n",
              "\n",
              "    .colab-df-convert:hover {\n",
              "      background-color: #E2EBFA;\n",
              "      box-shadow: 0px 1px 2px rgba(60, 64, 67, 0.3), 0px 1px 3px 1px rgba(60, 64, 67, 0.15);\n",
              "      fill: #174EA6;\n",
              "    }\n",
              "\n",
              "    [theme=dark] .colab-df-convert {\n",
              "      background-color: #3B4455;\n",
              "      fill: #D2E3FC;\n",
              "    }\n",
              "\n",
              "    [theme=dark] .colab-df-convert:hover {\n",
              "      background-color: #434B5C;\n",
              "      box-shadow: 0px 1px 3px 1px rgba(0, 0, 0, 0.15);\n",
              "      filter: drop-shadow(0px 1px 2px rgba(0, 0, 0, 0.3));\n",
              "      fill: #FFFFFF;\n",
              "    }\n",
              "  </style>\n",
              "\n",
              "      <script>\n",
              "        const buttonEl =\n",
              "          document.querySelector('#df-89fa3b7b-0183-4222-96be-9b1311c275aa button.colab-df-convert');\n",
              "        buttonEl.style.display =\n",
              "          google.colab.kernel.accessAllowed ? 'block' : 'none';\n",
              "\n",
              "        async function convertToInteractive(key) {\n",
              "          const element = document.querySelector('#df-89fa3b7b-0183-4222-96be-9b1311c275aa');\n",
              "          const dataTable =\n",
              "            await google.colab.kernel.invokeFunction('convertToInteractive',\n",
              "                                                     [key], {});\n",
              "          if (!dataTable) return;\n",
              "\n",
              "          const docLinkHtml = 'Like what you see? Visit the ' +\n",
              "            '<a target=\"_blank\" href=https://colab.research.google.com/notebooks/data_table.ipynb>data table notebook</a>'\n",
              "            + ' to learn more about interactive tables.';\n",
              "          element.innerHTML = '';\n",
              "          dataTable['output_type'] = 'display_data';\n",
              "          await google.colab.output.renderOutput(dataTable, element);\n",
              "          const docLink = document.createElement('div');\n",
              "          docLink.innerHTML = docLinkHtml;\n",
              "          element.appendChild(docLink);\n",
              "        }\n",
              "      </script>\n",
              "    </div>\n",
              "  </div>\n",
              "  "
            ]
          },
          "metadata": {},
          "execution_count": 11
        }
      ]
    },
    {
      "cell_type": "code",
      "source": [
        "rating.shape"
      ],
      "metadata": {
        "colab": {
          "base_uri": "https://localhost:8080/"
        },
        "id": "BKksGgoGZrJf",
        "outputId": "5c56ee23-7246-464d-ef52-4cb461f4c340"
      },
      "execution_count": 12,
      "outputs": [
        {
          "output_type": "execute_result",
          "data": {
            "text/plain": [
              "(100004, 3)"
            ]
          },
          "metadata": {},
          "execution_count": 12
        }
      ]
    },
    {
      "cell_type": "markdown",
      "source": [
        "**Q 1.2 Describe the distribution of ratings.**"
      ],
      "metadata": {
        "id": "Q6GUjRTpXBVJ"
      }
    },
    {
      "cell_type": "code",
      "source": [
        "plt.figure(figsize = (12,4))\n",
        "sns.countplot(rating['rating'])\n",
        "plt.tick_params(labelsize = 10)\n",
        "plt.title('Distribution of ratings')\n",
        "plt.xlabel('Ratings', fontsize = 10)\n",
        "plt.ylabel('Number of Ratings', fontsize = 10)\n",
        "plt.show()"
      ],
      "metadata": {
        "colab": {
          "base_uri": "https://localhost:8080/",
          "height": 295
        },
        "id": "q31TPcDZWriQ",
        "outputId": "655dcfce-5468-432d-d20c-09c793ebc249"
      },
      "execution_count": 13,
      "outputs": [
        {
          "output_type": "display_data",
          "data": {
            "text/plain": [
              "<Figure size 864x288 with 1 Axes>"
            ],
            "image/png": "[encoded data removed]"
          },
          "metadata": {
            "needs_background": "light"
          }
        }
      ]
    },
    {
      "cell_type": "markdown",
      "source": [
        "**Write your Answer here**: From this plot, we can tell, Rating '4' has the highest count (close to 30000), followed by rating '3' (around 20000 counts) and rating '5' with about 15000 counts\n",
        "The ratings are little biased towards 3 and above more thn under 3"
      ],
      "metadata": {
        "id": "IiX7PxV4XuFi"
      }
    },
    {
      "cell_type": "markdown",
      "source": [
        "***Q 1.3 What is the total number of unique users and unique movies? ***"
      ],
      "metadata": {
        "id": "Vtl6oRplYaiS"
      }
    },
    {
      "cell_type": "code",
      "source": [
        "rating['userId'].nunique()"
      ],
      "metadata": {
        "colab": {
          "base_uri": "https://localhost:8080/"
        },
        "id": "4AbJTdpQW2hk",
        "outputId": "562ad667-27c4-4ad5-893c-e387789a8d89"
      },
      "execution_count": 14,
      "outputs": [
        {
          "output_type": "execute_result",
          "data": {
            "text/plain": [
              "671"
            ]
          },
          "metadata": {},
          "execution_count": 14
        }
      ]
    },
    {
      "cell_type": "code",
      "source": [
        "rating['movieId'].nunique()"
      ],
      "metadata": {
        "colab": {
          "base_uri": "https://localhost:8080/"
        },
        "id": "gwzYZFNnYjb7",
        "outputId": "1970b0e8-75b4-4b77-ce56-47e017a7b775"
      },
      "execution_count": 15,
      "outputs": [
        {
          "output_type": "execute_result",
          "data": {
            "text/plain": [
              "9066"
            ]
          },
          "metadata": {},
          "execution_count": 15
        }
      ]
    },
    {
      "cell_type": "markdown",
      "source": [
        "**Write your answer here**: \n",
        "\n",
        "The total number of unique users is '671'.  \n",
        "The total number of unique movies is '9066'"
      ],
      "metadata": {
        "id": "nCXRH0wEYsHa"
      }
    },
    {
      "cell_type": "markdown",
      "source": [
        "**Q 1.4 Is there any movie that has been interacted with more than once by the same user?**"
      ],
      "metadata": {
        "id": "eM-p3oBwZHdu"
      }
    },
    {
      "cell_type": "code",
      "source": [
        "rating.groupby(['userId', 'movieId']).count()"
      ],
      "metadata": {
        "colab": {
          "base_uri": "https://localhost:8080/",
          "height": 450
        },
        "id": "-_8RwCE-YoyW",
        "outputId": "ea7b2bb0-06f4-4057-a3c3-64d7b4e58fb1"
      },
      "execution_count": 16,
      "outputs": [
        {
          "output_type": "execute_result",
          "data": {
            "text/plain": [
              "                rating\n",
              "userId movieId        \n",
              "1      31            1\n",
              "       1029          1\n",
              "       1061          1\n",
              "       1129          1\n",
              "       1172          1\n",
              "...                ...\n",
              "671    6268          1\n",
              "       6269          1\n",
              "       6365          1\n",
              "       6385          1\n",
              "       6565          1\n",
              "\n",
              "[100004 rows x 1 columns]"
            ],
            "text/html": [
              "\n",
              "  <div id=\"df-2f9cfcff-b6e1-4267-aea1-575bb1adcd81\">\n",
              "    <div class=\"colab-df-container\">\n",
              "      <div>\n",
              "<style scoped>\n",
              "    .dataframe tbody tr th:only-of-type {\n",
              "        vertical-align: middle;\n",
              "    }\n",
              "\n",
              "    .dataframe tbody tr th {\n",
              "        vertical-align: top;\n",
              "    }\n",
              "\n",
              "    .dataframe thead th {\n",
              "        text-align: right;\n",
              "    }\n",
              "</style>\n",
              "<table border=\"1\" class=\"dataframe\">\n",
              "  <thead>\n",
              "    <tr style=\"text-align: right;\">\n",
              "      <th></th>\n",
              "      <th></th>\n",
              "      <th>rating</th>\n",
              "    </tr>\n",
              "    <tr>\n",
              "      <th>userId</th>\n",
              "      <th>movieId</th>\n",
              "      <th></th>\n",
              "    </tr>\n",
              "  </thead>\n",
              "  <tbody>\n",
              "    <tr>\n",
              "      <th rowspan=\"5\" valign=\"top\">1</th>\n",
              "      <th>31</th>\n",
              "      <td>1</td>\n",
              "    </tr>\n",
              "    <tr>\n",
              "      <th>1029</th>\n",
              "      <td>1</td>\n",
              "    </tr>\n",
              "    <tr>\n",
              "      <th>1061</th>\n",
              "      <td>1</td>\n",
              "    </tr>\n",
              "    <tr>\n",
              "      <th>1129</th>\n",
              "      <td>1</td>\n",
              "    </tr>\n",
              "    <tr>\n",
              "      <th>1172</th>\n",
              "      <td>1</td>\n",
              "    </tr>\n",
              "    <tr>\n",
              "      <th>...</th>\n",
              "      <th>...</th>\n",
              "      <td>...</td>\n",
              "    </tr>\n",
              "    <tr>\n",
              "      <th rowspan=\"5\" valign=\"top\">671</th>\n",
              "      <th>6268</th>\n",
              "      <td>1</td>\n",
              "    </tr>\n",
              "    <tr>\n",
              "      <th>6269</th>\n",
              "      <td>1</td>\n",
              "    </tr>\n",
              "    <tr>\n",
              "      <th>6365</th>\n",
              "      <td>1</td>\n",
              "    </tr>\n",
              "    <tr>\n",
              "      <th>6385</th>\n",
              "      <td>1</td>\n",
              "    </tr>\n",
              "    <tr>\n",
              "      <th>6565</th>\n",
              "      <td>1</td>\n",
              "    </tr>\n",
              "  </tbody>\n",
              "</table>\n",
              "<p>100004 rows × 1 columns</p>\n",
              "</div>\n",
              "      <button class=\"colab-df-convert\" onclick=\"convertToInteractive('df-2f9cfcff-b6e1-4267-aea1-575bb1adcd81')\"\n",
              "              title=\"Convert this dataframe to an interactive table.\"\n",
              "              style=\"display:none;\">\n",
              "        \n",
              "  <svg xmlns=\"http://www.w3.org/2000/svg\" height=\"24px\"viewBox=\"0 0 24 24\"\n",
              "       width=\"24px\">\n",
              "    <path d=\"M0 0h24v24H0V0z\" fill=\"none\"/>\n",
              "    <path d=\"M18.56 5.44l.94 2.06.94-2.06 2.06-.94-2.06-.94-.94-2.06-.94 2.06-2.06.94zm-11 1L8.5 8.5l.94-2.06 2.06-.94-2.06-.94L8.5 2.5l-.94 2.06-2.06.94zm10 10l.94 2.06.94-2.06 2.06-.94-2.06-.94-.94-2.06-.94 2.06-2.06.94z\"/><path d=\"M17.41 7.96l-1.37-1.37c-.4-.4-.92-.59-1.43-.59-.52 0-1.04.2-1.43.59L10.3 9.45l-7.72 7.72c-.78.78-.78 2.05 0 2.83L4 21.41c.39.39.9.59 1.41.59.51 0 1.02-.2 1.41-.59l7.78-7.78 2.81-2.81c.8-.78.8-2.07 0-2.86zM5.41 20L4 18.59l7.72-7.72 1.47 1.35L5.41 20z\"/>\n",
              "  </svg>\n",
              "      </button>\n",
              "      \n",
              "  <style>\n",
              "    .colab-df-container {\n",
              "      display:flex;\n",
              "      flex-wrap:wrap;\n",
              "      gap: 12px;\n",
              "    }\n",
              "\n",
              "    .colab-df-convert {\n",
              "      background-color: #E8F0FE;\n",
              "      border: none;\n",
              "      border-radius: 50%;\n",
              "      cursor: pointer;\n",
              "      display: none;\n",
              "      fill: #1967D2;\n",
              "      height: 32px;\n",
              "      padding: 0 0 0 0;\n",
              "      width: 32px;\n",
              "    }\n",
              "\n",
              "    .colab-df-convert:hover {\n",
              "      background-color: #E2EBFA;\n",
              "      box-shadow: 0px 1px 2px rgba(60, 64, 67, 0.3), 0px 1px 3px 1px rgba(60, 64, 67, 0.15);\n",
              "      fill: #174EA6;\n",
              "    }\n",
              "\n",
              "    [theme=dark] .colab-df-convert {\n",
              "      background-color: #3B4455;\n",
              "      fill: #D2E3FC;\n",
              "    }\n",
              "\n",
              "    [theme=dark] .colab-df-convert:hover {\n",
              "      background-color: #434B5C;\n",
              "      box-shadow: 0px 1px 3px 1px rgba(0, 0, 0, 0.15);\n",
              "      filter: drop-shadow(0px 1px 2px rgba(0, 0, 0, 0.3));\n",
              "      fill: #FFFFFF;\n",
              "    }\n",
              "  </style>\n",
              "\n",
              "      <script>\n",
              "        const buttonEl =\n",
              "          document.querySelector('#df-2f9cfcff-b6e1-4267-aea1-575bb1adcd81 button.colab-df-convert');\n",
              "        buttonEl.style.display =\n",
              "          google.colab.kernel.accessAllowed ? 'block' : 'none';\n",
              "\n",
              "        async function convertToInteractive(key) {\n",
              "          const element = document.querySelector('#df-2f9cfcff-b6e1-4267-aea1-575bb1adcd81');\n",
              "          const dataTable =\n",
              "            await google.colab.kernel.invokeFunction('convertToInteractive',\n",
              "                                                     [key], {});\n",
              "          if (!dataTable) return;\n",
              "\n",
              "          const docLinkHtml = 'Like what you see? Visit the ' +\n",
              "            '<a target=\"_blank\" href=https://colab.research.google.com/notebooks/data_table.ipynb>data table notebook</a>'\n",
              "            + ' to learn more about interactive tables.';\n",
              "          element.innerHTML = '';\n",
              "          dataTable['output_type'] = 'display_data';\n",
              "          await google.colab.output.renderOutput(dataTable, element);\n",
              "          const docLink = document.createElement('div');\n",
              "          docLink.innerHTML = docLinkHtml;\n",
              "          element.appendChild(docLink);\n",
              "        }\n",
              "      </script>\n",
              "    </div>\n",
              "  </div>\n",
              "  "
            ]
          },
          "metadata": {},
          "execution_count": 16
        }
      ]
    },
    {
      "cell_type": "code",
      "source": [
        "rating.groupby(['userId', 'movieId']).count()['rating'].sum()"
      ],
      "metadata": {
        "colab": {
          "base_uri": "https://localhost:8080/"
        },
        "id": "clI7cpVWZOSq",
        "outputId": "7b90c785-b1bb-464d-e043-c3cb4d0353b9"
      },
      "execution_count": 17,
      "outputs": [
        {
          "output_type": "execute_result",
          "data": {
            "text/plain": [
              "100004"
            ]
          },
          "metadata": {},
          "execution_count": 17
        }
      ]
    },
    {
      "cell_type": "markdown",
      "source": [
        "**Write your Answer here:** Since the sum after groupby is equal to the total number of dataset in shape[0], all the interaction should be once between a pair of items and a user"
      ],
      "metadata": {
        "id": "zvtZ8hY1Z-FL"
      }
    },
    {
      "cell_type": "markdown",
      "source": [
        "**Q 1.5 Which is the most interacted movie in the dataset?**"
      ],
      "metadata": {
        "id": "Wzz4CbNgadBu"
      }
    },
    {
      "cell_type": "code",
      "source": [
        "rating['movieId'].value_counts()"
      ],
      "metadata": {
        "colab": {
          "base_uri": "https://localhost:8080/"
        },
        "id": "KWQzYY51bn88",
        "outputId": "4dfb475a-b5cf-4e65-fdfe-f9a7b68a917e"
      },
      "execution_count": 18,
      "outputs": [
        {
          "output_type": "execute_result",
          "data": {
            "text/plain": [
              "356       341\n",
              "296       324\n",
              "318       311\n",
              "593       304\n",
              "260       291\n",
              "         ... \n",
              "98604       1\n",
              "103659      1\n",
              "104419      1\n",
              "115927      1\n",
              "6425        1\n",
              "Name: movieId, Length: 9066, dtype: int64"
            ]
          },
          "metadata": {},
          "execution_count": 18
        }
      ]
    },
    {
      "cell_type": "markdown",
      "source": [
        "**Write your Answer here:** MovieId 356 got most interactions from users"
      ],
      "metadata": {
        "id": "q25HEPyIabrE"
      }
    },
    {
      "cell_type": "code",
      "source": [
        "# Plotting distributions of ratings for 341 interactions with movieId 356 \n",
        "plt.figure(figsize = (7,7))\n",
        "rating[rating['movieId'] == 356]['rating'].value_counts().plot(kind = 'bar')\n",
        "plt.xlabel('Rating')\n",
        "plt.ylabel('Count')\n",
        "plt.title('Distributions of ratings for movieId 356')"
      ],
      "metadata": {
        "colab": {
          "base_uri": "https://localhost:8080/",
          "height": 481
        },
        "id": "0eWStGMoiSWX",
        "outputId": "56bedd41-4a25-40e2-bd11-3d29d812b59a"
      },
      "execution_count": 19,
      "outputs": [
        {
          "output_type": "execute_result",
          "data": {
            "text/plain": [
              "Text(0.5, 1.0, 'Distributions of ratings for movieId 356')"
            ]
          },
          "metadata": {},
          "execution_count": 19
        },
        {
          "output_type": "display_data",
          "data": {
            "text/plain": [
              "<Figure size 504x504 with 1 Axes>"
            ],
            "image/png": "[encoded data removed]"
          },
          "metadata": {
            "needs_background": "light"
          }
        }
      ]
    },
    {
      "cell_type": "markdown",
      "source": [
        "**Write your Answer here:** for movieId 356, out of these 341 interactions, more than 100 gave rating 4, following by a little of 100 users gave rating 5. Only very few people gave low ratings like 1, 1.5 \n",
        "\n",
        "This tells us majority people like this movie"
      ],
      "metadata": {
        "id": "DHxzUIamkZC8"
      }
    },
    {
      "cell_type": "markdown",
      "source": [
        "**Q 1.6 Which user interacted the most with any movie in the dataset?**"
      ],
      "metadata": {
        "id": "csJCOOI-lKlv"
      }
    },
    {
      "cell_type": "code",
      "source": [
        "rating['userId'].value_counts()"
      ],
      "metadata": {
        "colab": {
          "base_uri": "https://localhost:8080/"
        },
        "id": "ZA-dVoXbjyFl",
        "outputId": "efe16860-433b-42e2-effc-bed346f35165"
      },
      "execution_count": 20,
      "outputs": [
        {
          "output_type": "execute_result",
          "data": {
            "text/plain": [
              "547    2391\n",
              "564    1868\n",
              "624    1735\n",
              "15     1700\n",
              "73     1610\n",
              "       ... \n",
              "296      20\n",
              "289      20\n",
              "249      20\n",
              "221      20\n",
              "1        20\n",
              "Name: userId, Length: 671, dtype: int64"
            ]
          },
          "metadata": {},
          "execution_count": 20
        }
      ]
    },
    {
      "cell_type": "markdown",
      "source": [
        "**Write your Answer here:** UserId 547 interacted the most with movies, showing 2391 interactions with movies."
      ],
      "metadata": {
        "id": "pRkWrw_6lcGX"
      }
    },
    {
      "cell_type": "markdown",
      "source": [
        "**Q 1.7 What is the distribution of the user-movie interactions in this dataset?**"
      ],
      "metadata": {
        "id": "IBHKh9zelv4J"
      }
    },
    {
      "cell_type": "code",
      "source": [
        "count_interactions = rating.groupby('userId').count()['movieId']\n",
        "count_interactions"
      ],
      "metadata": {
        "colab": {
          "base_uri": "https://localhost:8080/"
        },
        "id": "Q1loQVublTrJ",
        "outputId": "4b53323e-af89-413b-e7d2-e6df02107826"
      },
      "execution_count": 21,
      "outputs": [
        {
          "output_type": "execute_result",
          "data": {
            "text/plain": [
              "userId\n",
              "1       20\n",
              "2       76\n",
              "3       51\n",
              "4      204\n",
              "5      100\n",
              "      ... \n",
              "667     68\n",
              "668     20\n",
              "669     37\n",
              "670     31\n",
              "671    115\n",
              "Name: movieId, Length: 671, dtype: int64"
            ]
          },
          "metadata": {},
          "execution_count": 21
        }
      ]
    },
    {
      "cell_type": "code",
      "source": [
        "# Plotting user-movie interactions distribution\n",
        "plt.figure(figsize = (15,7))\n",
        "sns.histplot(count_interactions)\n",
        "plt.xlabel('Number of Interactions by Users')\n",
        "plt.show()"
      ],
      "metadata": {
        "colab": {
          "base_uri": "https://localhost:8080/",
          "height": 445
        },
        "id": "68Q7p23wmFND",
        "outputId": "e33c133c-a45b-48cc-e947-ec1b55e06f8e"
      },
      "execution_count": 22,
      "outputs": [
        {
          "output_type": "display_data",
          "data": {
            "text/plain": [
              "<Figure size 1080x504 with 1 Axes>"
            ],
            "image/png": "[encoded data removed]"
          },
          "metadata": {
            "needs_background": "light"
          }
        }
      ]
    },
    {
      "cell_type": "markdown",
      "source": [
        "**Write your Answer here:** This distribution is right skewed with majority users have less than 500 interactions with movies."
      ],
      "metadata": {
        "id": "so2GJ7zOnEL3"
      }
    },
    {
      "cell_type": "markdown",
      "source": [
        "# **Question 2: Create Rank-Based Recommendation System**"
      ],
      "metadata": {
        "id": "sJlLwqAFnUtV"
      }
    },
    {
      "cell_type": "markdown",
      "source": [
        "**Model 1: Rank-Based Recommendation System**"
      ],
      "metadata": {
        "id": "q63tzw-YnfGg"
      }
    },
    {
      "cell_type": "markdown",
      "source": [
        "To build the rank-based recommendation system, we take **average** of all the ratings provided to each movie and then rank them based on their average rating."
      ],
      "metadata": {
        "id": "8u8Qe2_hntso"
      }
    },
    {
      "cell_type": "code",
      "source": [
        "# Calculating average ratings:\n",
        "average_rating = rating.groupby('movieId').mean()['rating']\n",
        "# Calculating the count of ratings:\n",
        "count_rating = rating.groupby('movieId').count()['rating']\n",
        "# Making a dataframe with the count and average of ratings\n",
        "final_rating = pd. DataFrame({'avg_rating' : average_rating, 'rating_count' : count_rating})"
      ],
      "metadata": {
        "id": "_-GH71flmo5t"
      },
      "execution_count": 23,
      "outputs": []
    },
    {
      "cell_type": "code",
      "source": [
        "final_rating.head()"
      ],
      "metadata": {
        "colab": {
          "base_uri": "https://localhost:8080/",
          "height": 235
        },
        "id": "ZloECAcypA7Z",
        "outputId": "fd2e7f90-921f-4184-b035-49800e4240aa"
      },
      "execution_count": 24,
      "outputs": [
        {
          "output_type": "execute_result",
          "data": {
            "text/plain": [
              "         avg_rating  rating_count\n",
              "movieId                          \n",
              "1          3.872470           247\n",
              "2          3.401869           107\n",
              "3          3.161017            59\n",
              "4          2.384615            13\n",
              "5          3.267857            56"
            ],
            "text/html": [
              "\n",
              "  <div id=\"df-88ce94fd-85ab-45ae-85af-8cb293d16140\">\n",
              "    <div class=\"colab-df-container\">\n",
              "      <div>\n",
              "<style scoped>\n",
              "    .dataframe tbody tr th:only-of-type {\n",
              "        vertical-align: middle;\n",
              "    }\n",
              "\n",
              "    .dataframe tbody tr th {\n",
              "        vertical-align: top;\n",
              "    }\n",
              "\n",
              "    .dataframe thead th {\n",
              "        text-align: right;\n",
              "    }\n",
              "</style>\n",
              "<table border=\"1\" class=\"dataframe\">\n",
              "  <thead>\n",
              "    <tr style=\"text-align: right;\">\n",
              "      <th></th>\n",
              "      <th>avg_rating</th>\n",
              "      <th>rating_count</th>\n",
              "    </tr>\n",
              "    <tr>\n",
              "      <th>movieId</th>\n",
              "      <th></th>\n",
              "      <th></th>\n",
              "    </tr>\n",
              "  </thead>\n",
              "  <tbody>\n",
              "    <tr>\n",
              "      <th>1</th>\n",
              "      <td>3.872470</td>\n",
              "      <td>247</td>\n",
              "    </tr>\n",
              "    <tr>\n",
              "      <th>2</th>\n",
              "      <td>3.401869</td>\n",
              "      <td>107</td>\n",
              "    </tr>\n",
              "    <tr>\n",
              "      <th>3</th>\n",
              "      <td>3.161017</td>\n",
              "      <td>59</td>\n",
              "    </tr>\n",
              "    <tr>\n",
              "      <th>4</th>\n",
              "      <td>2.384615</td>\n",
              "      <td>13</td>\n",
              "    </tr>\n",
              "    <tr>\n",
              "      <th>5</th>\n",
              "      <td>3.267857</td>\n",
              "      <td>56</td>\n",
              "    </tr>\n",
              "  </tbody>\n",
              "</table>\n",
              "</div>\n",
              "      <button class=\"colab-df-convert\" onclick=\"convertToInteractive('df-88ce94fd-85ab-45ae-85af-8cb293d16140')\"\n",
              "              title=\"Convert this dataframe to an interactive table.\"\n",
              "              style=\"display:none;\">\n",
              "        \n",
              "  <svg xmlns=\"http://www.w3.org/2000/svg\" height=\"24px\"viewBox=\"0 0 24 24\"\n",
              "       width=\"24px\">\n",
              "    <path d=\"M0 0h24v24H0V0z\" fill=\"none\"/>\n",
              "    <path d=\"M18.56 5.44l.94 2.06.94-2.06 2.06-.94-2.06-.94-.94-2.06-.94 2.06-2.06.94zm-11 1L8.5 8.5l.94-2.06 2.06-.94-2.06-.94L8.5 2.5l-.94 2.06-2.06.94zm10 10l.94 2.06.94-2.06 2.06-.94-2.06-.94-.94-2.06-.94 2.06-2.06.94z\"/><path d=\"M17.41 7.96l-1.37-1.37c-.4-.4-.92-.59-1.43-.59-.52 0-1.04.2-1.43.59L10.3 9.45l-7.72 7.72c-.78.78-.78 2.05 0 2.83L4 21.41c.39.39.9.59 1.41.59.51 0 1.02-.2 1.41-.59l7.78-7.78 2.81-2.81c.8-.78.8-2.07 0-2.86zM5.41 20L4 18.59l7.72-7.72 1.47 1.35L5.41 20z\"/>\n",
              "  </svg>\n",
              "      </button>\n",
              "      \n",
              "  <style>\n",
              "    .colab-df-container {\n",
              "      display:flex;\n",
              "      flex-wrap:wrap;\n",
              "      gap: 12px;\n",
              "    }\n",
              "\n",
              "    .colab-df-convert {\n",
              "      background-color: #E8F0FE;\n",
              "      border: none;\n",
              "      border-radius: 50%;\n",
              "      cursor: pointer;\n",
              "      display: none;\n",
              "      fill: #1967D2;\n",
              "      height: 32px;\n",
              "      padding: 0 0 0 0;\n",
              "      width: 32px;\n",
              "    }\n",
              "\n",
              "    .colab-df-convert:hover {\n",
              "      background-color: #E2EBFA;\n",
              "      box-shadow: 0px 1px 2px rgba(60, 64, 67, 0.3), 0px 1px 3px 1px rgba(60, 64, 67, 0.15);\n",
              "      fill: #174EA6;\n",
              "    }\n",
              "\n",
              "    [theme=dark] .colab-df-convert {\n",
              "      background-color: #3B4455;\n",
              "      fill: #D2E3FC;\n",
              "    }\n",
              "\n",
              "    [theme=dark] .colab-df-convert:hover {\n",
              "      background-color: #434B5C;\n",
              "      box-shadow: 0px 1px 3px 1px rgba(0, 0, 0, 0.15);\n",
              "      filter: drop-shadow(0px 1px 2px rgba(0, 0, 0, 0.3));\n",
              "      fill: #FFFFFF;\n",
              "    }\n",
              "  </style>\n",
              "\n",
              "      <script>\n",
              "        const buttonEl =\n",
              "          document.querySelector('#df-88ce94fd-85ab-45ae-85af-8cb293d16140 button.colab-df-convert');\n",
              "        buttonEl.style.display =\n",
              "          google.colab.kernel.accessAllowed ? 'block' : 'none';\n",
              "\n",
              "        async function convertToInteractive(key) {\n",
              "          const element = document.querySelector('#df-88ce94fd-85ab-45ae-85af-8cb293d16140');\n",
              "          const dataTable =\n",
              "            await google.colab.kernel.invokeFunction('convertToInteractive',\n",
              "                                                     [key], {});\n",
              "          if (!dataTable) return;\n",
              "\n",
              "          const docLinkHtml = 'Like what you see? Visit the ' +\n",
              "            '<a target=\"_blank\" href=https://colab.research.google.com/notebooks/data_table.ipynb>data table notebook</a>'\n",
              "            + ' to learn more about interactive tables.';\n",
              "          element.innerHTML = '';\n",
              "          dataTable['output_type'] = 'display_data';\n",
              "          await google.colab.output.renderOutput(dataTable, element);\n",
              "          const docLink = document.createElement('div');\n",
              "          docLink.innerHTML = docLinkHtml;\n",
              "          element.appendChild(docLink);\n",
              "        }\n",
              "      </script>\n",
              "    </div>\n",
              "  </div>\n",
              "  "
            ]
          },
          "metadata": {},
          "execution_count": 24
        }
      ]
    },
    {
      "cell_type": "markdown",
      "source": [
        "Now, let's create a function to find the **top n movies** for a recommendation based on the average ratings of movies. We can also add a **threshold for a minimum number of interactions** for a movie to be considered for recommendation."
      ],
      "metadata": {
        "id": "ZWCeGOSpnC_4"
      }
    },
    {
      "cell_type": "code",
      "source": [
        "def top_n_movies(data, n, min_interaction=100):\n",
        "    \n",
        "    #Finding movies with minimum number of interactions\n",
        "    recommendations = data[data['rating_count'] > min_interaction]\n",
        "    \n",
        "    #Sorting values w.r.t average rating \n",
        "    recommendations = recommendations.sort_values(by='avg_rating', ascending=False)\n",
        "    \n",
        "    return recommendations.index[:n]"
      ],
      "metadata": {
        "id": "xrc0TXNrpecL"
      },
      "execution_count": 25,
      "outputs": []
    },
    {
      "cell_type": "markdown",
      "source": [
        "We can **use this function with different n's and minimum interactions** to get movies to recommend"
      ],
      "metadata": {
        "id": "fZhmqxVHpvjg"
      }
    },
    {
      "cell_type": "markdown",
      "source": [
        "**Recommending top 5 movies with 50 minimum interactions based on popularity**"
      ],
      "metadata": {
        "id": "C9VtX4VIpzvc"
      }
    },
    {
      "cell_type": "code",
      "source": [
        "list(top_n_movies(final_rating, 5, 50))"
      ],
      "metadata": {
        "colab": {
          "base_uri": "https://localhost:8080/"
        },
        "id": "LCRCs5b7phC9",
        "outputId": "e7f2d184-1084-4332-8714-4b3e0243ca39"
      },
      "execution_count": 26,
      "outputs": [
        {
          "output_type": "execute_result",
          "data": {
            "text/plain": [
              "[858, 318, 913, 1221, 50]"
            ]
          },
          "metadata": {},
          "execution_count": 26
        }
      ]
    },
    {
      "cell_type": "markdown",
      "source": [
        "These **top 5 **movies (movieID: 858,318,913,1221 and 50) are recommended by using the popularity recommendation system"
      ],
      "metadata": {
        "id": "HgCSf0UOqjfk"
      }
    },
    {
      "cell_type": "markdown",
      "source": [
        "**Recommending top 5 movies with 100 minimum interactions based on popularity**"
      ],
      "metadata": {
        "id": "ymlqFx4CrcUT"
      }
    },
    {
      "cell_type": "code",
      "source": [
        "list(top_n_movies(final_rating, 5, 100))"
      ],
      "metadata": {
        "colab": {
          "base_uri": "https://localhost:8080/"
        },
        "id": "lNFv0TwirfXW",
        "outputId": "db12dcb5-411b-448b-9bc5-0e219ddda1c0"
      },
      "execution_count": 27,
      "outputs": [
        {
          "output_type": "execute_result",
          "data": {
            "text/plain": [
              "[858, 318, 1221, 50, 527]"
            ]
          },
          "metadata": {},
          "execution_count": 27
        }
      ]
    },
    {
      "cell_type": "markdown",
      "source": [
        "**Recommending top 5 movies with 200 minimum interactions based on popularity**"
      ],
      "metadata": {
        "id": "HNR8lqTrq3Ig"
      }
    },
    {
      "cell_type": "code",
      "source": [
        "list(top_n_movies(final_rating, 5, 200))"
      ],
      "metadata": {
        "colab": {
          "base_uri": "https://localhost:8080/"
        },
        "id": "S3rXXanorotq",
        "outputId": "b6ad088d-9802-48a0-c5f7-2232ab2ad3a7"
      },
      "execution_count": 28,
      "outputs": [
        {
          "output_type": "execute_result",
          "data": {
            "text/plain": [
              "[318, 50, 527, 608, 296]"
            ]
          },
          "metadata": {},
          "execution_count": 28
        }
      ]
    },
    {
      "cell_type": "markdown",
      "source": [
        "# **Model 2: User based Collaborative Filtering Recommendation System**"
      ],
      "metadata": {
        "id": "uDc0Gm3FrAV0"
      }
    },
    {
      "cell_type": "markdown",
      "source": [
        "![collaborative_filtering.PNG](data:image/png;base64,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)collaborative_filtering.PNG"
      ],
      "metadata": {
        "id": "90pDR4DUr_4l"
      }
    },
    {
      "cell_type": "markdown",
      "source": [
        "In the above **interactions matrix**, out of users B and C, which user is most likely to interact with the movie, \"The Terminal\"?"
      ],
      "metadata": {
        "id": "k8_RtlDHsWl1"
      }
    },
    {
      "cell_type": "markdown",
      "source": [
        "In this type of recommendation system, we do not need any information about the users or items. We only need user item interaction data to build a collaborative recommendation system. For example -\n",
        "\n",
        "1. **Ratings** provided by users. For example - ratings of books on goodread, movie ratings on imdb etc\n",
        "2. **Likes** of users on different facebook posts, likes on youtube videos\n",
        "3. **Use/buying** of a product by users. For example - buying different items on e-commerce sites\n",
        "4. **Reading** of articles by readers on various blogs"
      ],
      "metadata": {
        "id": "KDLb_lZwsfi4"
      }
    },
    {
      "cell_type": "markdown",
      "source": [
        "**Types of Collaborative Filtering**\n",
        "\n",
        "Similarity/Neighborhood based\n",
        "\n",
        "    User-User Similarity Based\n",
        "  \n",
        "    Item-Item similarity based\n",
        "\n",
        "Model based"
      ],
      "metadata": {
        "id": "lpQWzQ-4srmd"
      }
    },
    {
      "cell_type": "markdown",
      "source": [
        ""
      ],
      "metadata": {
        "id": "GBoAbN2msZJ0"
      }
    },
    {
      "cell_type": "markdown",
      "source": [
        "**Building Similarity/Neighborhood based Collaborative Filtering**"
      ],
      "metadata": {
        "id": "oHNJgY-ns3DP"
      }
    },
    {
      "cell_type": "markdown",
      "source": [
        "![cosine.PNG](data:image/png;base64,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)"
      ],
      "metadata": {
        "id": "Es51Cpsts6DA"
      }
    },
    {
      "cell_type": "markdown",
      "source": [
        "**Building a baseline user-user similarity based recommendation system**\n",
        "  \n",
        "  Below, we are building **similarity-based recommendation systems** using cosine similarity and using **KNN to find similar users** which are the nearest neighbor to the given user.\n",
        "  We will be using a new library, called **surprise**, to build the remaining models. Let's first import the necessary classes and functions from this library."
      ],
      "metadata": {
        "id": "vjSgPDUCtTf0"
      }
    },
    {
      "cell_type": "markdown",
      "source": [
        "Below we are loading the **rating dataset**, which is a **pandas DataFrame**, into a **different format called surprise.dataset.DatasetAutoFolds**, which is required by this library. To do this, we will be **using the classes Reader and Dataset**. Finally splitting the data into train and test set."
      ],
      "metadata": {
        "id": "633tul8lthej"
      }
    },
    {
      "cell_type": "markdown",
      "source": [
        "**Making the dataset into surprise dataset and splitting it into train and test set**"
      ],
      "metadata": {
        "id": "gjbW1Yll80RS"
      }
    },
    {
      "cell_type": "code",
      "source": [
        "# Instantiating Reader scale with expected rating scale\n",
        "reader = Reader (rating_scale = (0,5))"
      ],
      "metadata": {
        "id": "YTpntPbbqKTl"
      },
      "execution_count": 29,
      "outputs": []
    },
    {
      "cell_type": "code",
      "source": [
        "# Loading the rating dataset\n",
        "data = Dataset.load_from_df(rating[['userId', 'movieId', 'rating']], reader)"
      ],
      "metadata": {
        "id": "-spxHw4z9IHu"
      },
      "execution_count": 30,
      "outputs": []
    },
    {
      "cell_type": "code",
      "source": [
        "# Splitting the data into train and test dataset\n",
        "trainset,testset = train_test_split(data, test_size = 0.2, random_state = 42)"
      ],
      "metadata": {
        "id": "zEZXT8urAr_L"
      },
      "execution_count": 31,
      "outputs": []
    },
    {
      "cell_type": "markdown",
      "source": [
        "**Build the first baseline similarity based recommendation system using cosine similarity and KNN**"
      ],
      "metadata": {
        "id": "SR_zc_2bBo67"
      }
    },
    {
      "cell_type": "code",
      "source": [
        "sim_options = {'name' :'cosine', 'user_based': True}\n",
        "algo_knn_user = KNNBasic(sim_options = sim_options, verbose = False) \n",
        "# Train the algorithm on the trainset, and predict ratings for the testset\n",
        "algo_knn_user.fit(trainset)\n",
        "predictions = algo_knn_user.test(testset)\n",
        "\n",
        "# Computer RMSE\n",
        "accuracy.rmse(predictions)\n"
      ],
      "metadata": {
        "colab": {
          "base_uri": "https://localhost:8080/"
        },
        "id": "xl6VZgatB0mf",
        "outputId": "0402d7e6-e2b3-4f25-c0da-037abb48c29a"
      },
      "execution_count": 32,
      "outputs": [
        {
          "output_type": "stream",
          "name": "stdout",
          "text": [
            "RMSE: 0.9925\n"
          ]
        },
        {
          "output_type": "execute_result",
          "data": {
            "text/plain": [
              "0.9924509041520163"
            ]
          },
          "metadata": {},
          "execution_count": 32
        }
      ]
    },
    {
      "cell_type": "markdown",
      "source": [
        "**Q 3.1 What is the RMSE for baseline user based collaborative filtering recommendation system?**"
      ],
      "metadata": {
        "id": "nY_ajNShES0D"
      }
    },
    {
      "cell_type": "markdown",
      "source": [
        "Let's us now predict rating for an user with userId=4 and for movieId=10"
      ],
      "metadata": {
        "id": "hgiDfcjaEaqy"
      }
    },
    {
      "cell_type": "code",
      "source": [
        "algo_knn_user.predict(4,10,r_ui = 4, verbose = True)"
      ],
      "metadata": {
        "colab": {
          "base_uri": "https://localhost:8080/"
        },
        "id": "Sa4XvaaUCc8N",
        "outputId": "d35f3924-75f9-4ca6-f321-0af0b2267df0"
      },
      "execution_count": 33,
      "outputs": [
        {
          "output_type": "stream",
          "name": "stdout",
          "text": [
            "user: 4          item: 10         r_ui = 4.00   est = 3.62   {'actual_k': 40, 'was_impossible': False}\n"
          ]
        },
        {
          "output_type": "execute_result",
          "data": {
            "text/plain": [
              "Prediction(uid=4, iid=10, r_ui=4, est=3.6244912065910952, details={'actual_k': 40, 'was_impossible': False})"
            ]
          },
          "metadata": {},
          "execution_count": 33
        }
      ]
    },
    {
      "cell_type": "markdown",
      "source": [
        "**Write your Answer here:** User 4, item 10 will get an estimate rating of 3.62 based on this similarity based baseline model"
      ],
      "metadata": {
        "id": "hMgVeXFuEyv4"
      }
    },
    {
      "cell_type": "markdown",
      "source": [
        "Let's predict the rating for the same userId=4 but for a movie which this user has not interacted before i.e. movieId=3"
      ],
      "metadata": {
        "id": "_KyFxV30FKS7"
      }
    },
    {
      "cell_type": "code",
      "source": [
        "algo_knn_user.predict(4,3,verbose = True)"
      ],
      "metadata": {
        "colab": {
          "base_uri": "https://localhost:8080/"
        },
        "id": "YpIqhfc0EohA",
        "outputId": "3d9928fc-59f0-444e-e53c-46f712837148"
      },
      "execution_count": 34,
      "outputs": [
        {
          "output_type": "stream",
          "name": "stdout",
          "text": [
            "user: 4          item: 3          r_ui = None   est = 3.20   {'actual_k': 40, 'was_impossible': False}\n"
          ]
        },
        {
          "output_type": "execute_result",
          "data": {
            "text/plain": [
              "Prediction(uid=4, iid=3, r_ui=None, est=3.202703552548654, details={'actual_k': 40, 'was_impossible': False})"
            ]
          },
          "metadata": {},
          "execution_count": 34
        }
      ]
    },
    {
      "cell_type": "markdown",
      "source": [
        "**Write your Answer here**: Using the same model with the same user, but on the movie that this user have not ever rated (moveId 3), we estimated user 4 will give moveId 3 about 3.2 rating"
      ],
      "metadata": {
        "id": "XoMCSlsLFWfn"
      }
    },
    {
      "cell_type": "markdown",
      "source": [
        "**Improving user-user similarity based recommendation system by tuning its hyper-parameters**"
      ],
      "metadata": {
        "id": "22C5eGa5Fvj6"
      }
    },
    {
      "cell_type": "markdown",
      "source": [
        "**Q 3.3 Perform hyperparameter tuning for the baseline user based collaborative filtering recommendation system and find the RMSE for tuned user based collaborative filtering recommendation system?**"
      ],
      "metadata": {
        "id": "KD0xChbMFzSn"
      }
    },
    {
      "cell_type": "code",
      "source": [
        "# Setting up parameter grid to tune the hyperparameters\n",
        "param_grid = {'k': [20, 30, 40], 'min_k': [3, 6, 9],'sim_options': {'name': ['msd', 'cosine'],'user_based': [True]}}\n",
        "\n",
        "# Performing 3-fold cross validation to tune the hyperparameters\n",
        "grid_obj = GridSearchCV(KNNBasic, param_grid, measures=['rmse', 'mae'], cv=3, n_jobs=-1)\n",
        "\n",
        "# Fitting the data\n",
        "grid_obj.fit(data)\n",
        "\n",
        "# Best RMSE score\n",
        "print(grid_obj.best_score['rmse'])\n",
        "\n",
        "# Combination of parameters that gave the best RMSE score\n",
        "print(grid_obj.best_params['rmse'])"
      ],
      "metadata": {
        "colab": {
          "base_uri": "https://localhost:8080/"
        },
        "id": "7CKjOBOxHbot",
        "outputId": "8a56de97-a933-4184-c1b6-c040064835c1"
      },
      "execution_count": 35,
      "outputs": [
        {
          "output_type": "stream",
          "name": "stdout",
          "text": [
            "0.9642424974085312\n",
            "{'k': 20, 'min_k': 3, 'sim_options': {'name': 'msd', 'user_based': True}}\n"
          ]
        }
      ]
    },
    {
      "cell_type": "markdown",
      "source": [
        "**Write your Answer here:** From this grid search, we can see the optimal hyperparameters for this KNNBasic model is: 'k' = 20, 'min_k' = 3, 'sim_options' = 'msd'}"
      ],
      "metadata": {
        "id": "Eyb4rrcQI1hc"
      }
    },
    {
      "cell_type": "markdown",
      "source": [
        "Below we are analysing evaluation metrics - RMSE and MAE at each and every split to analyze the impact of each value of hyperparameters"
      ],
      "metadata": {
        "id": "p8cByqdhJsQ9"
      }
    },
    {
      "cell_type": "code",
      "source": [
        "results_df = pd.DataFrame.from_dict(grid_obj.cv_results)\n",
        "results_df.head()"
      ],
      "metadata": {
        "colab": {
          "base_uri": "https://localhost:8080/",
          "height": 511
        },
        "id": "-wV2GC7dIv7l",
        "outputId": "f21090e7-e25c-4b36-fb15-7ee9c892d9d3"
      },
      "execution_count": 36,
      "outputs": [
        {
          "output_type": "execute_result",
          "data": {
            "text/plain": [
              "   split0_test_rmse  split1_test_rmse  split2_test_rmse  mean_test_rmse  \\\n",
              "0          0.967862          0.959552          0.965314        0.964242   \n",
              "1          0.997377          0.988350          0.994134        0.993287   \n",
              "2          0.974001          0.962184          0.968989        0.968391   \n",
              "3          1.001748          0.989817          0.996442        0.996003   \n",
              "4          0.980107          0.967875          0.974770        0.974251   \n",
              "\n",
              "   std_test_rmse  rank_test_rmse  split0_test_mae  split1_test_mae  \\\n",
              "0       0.003476               1         0.745106         0.740213   \n",
              "1       0.003733              13         0.771826         0.766618   \n",
              "2       0.004843               3         0.749519         0.742522   \n",
              "3       0.004881              15         0.775021         0.768009   \n",
              "4       0.005007               7         0.754583         0.747739   \n",
              "\n",
              "   split2_test_mae  mean_test_mae  std_test_mae  rank_test_mae  mean_fit_time  \\\n",
              "0         0.739565       0.741628      0.002474              1       0.117232   \n",
              "1         0.766060       0.768168      0.002597             12       0.759178   \n",
              "2         0.742625       0.744889      0.003275              3       0.176471   \n",
              "3         0.767969       0.770333      0.003315             15       0.721882   \n",
              "4         0.746850       0.749724      0.003455              6       0.166644   \n",
              "\n",
              "   std_fit_time  mean_test_time  std_test_time  \\\n",
              "0      0.005713        3.401470       0.082491   \n",
              "1      0.040201        3.227883       0.102950   \n",
              "2      0.021559        3.653407       0.632565   \n",
              "3      0.099134        3.125689       0.119950   \n",
              "4      0.052462        3.222846       0.132762   \n",
              "\n",
              "                                              params  param_k  param_min_k  \\\n",
              "0  {'k': 20, 'min_k': 3, 'sim_options': {'name': ...       20            3   \n",
              "1  {'k': 20, 'min_k': 3, 'sim_options': {'name': ...       20            3   \n",
              "2  {'k': 20, 'min_k': 6, 'sim_options': {'name': ...       20            6   \n",
              "3  {'k': 20, 'min_k': 6, 'sim_options': {'name': ...       20            6   \n",
              "4  {'k': 20, 'min_k': 9, 'sim_options': {'name': ...       20            9   \n",
              "\n",
              "                        param_sim_options  \n",
              "0     {'name': 'msd', 'user_based': True}  \n",
              "1  {'name': 'cosine', 'user_based': True}  \n",
              "2     {'name': 'msd', 'user_based': True}  \n",
              "3  {'name': 'cosine', 'user_based': True}  \n",
              "4     {'name': 'msd', 'user_based': True}  "
            ],
            "text/html": [
              "\n",
              "  <div id=\"df-ffce97f7-7c27-4574-afbf-5cc99124f16b\">\n",
              "    <div class=\"colab-df-container\">\n",
              "      <div>\n",
              "<style scoped>\n",
              "    .dataframe tbody tr th:only-of-type {\n",
              "        vertical-align: middle;\n",
              "    }\n",
              "\n",
              "    .dataframe tbody tr th {\n",
              "        vertical-align: top;\n",
              "    }\n",
              "\n",
              "    .dataframe thead th {\n",
              "        text-align: right;\n",
              "    }\n",
              "</style>\n",
              "<table border=\"1\" class=\"dataframe\">\n",
              "  <thead>\n",
              "    <tr style=\"text-align: right;\">\n",
              "      <th></th>\n",
              "      <th>split0_test_rmse</th>\n",
              "      <th>split1_test_rmse</th>\n",
              "      <th>split2_test_rmse</th>\n",
              "      <th>mean_test_rmse</th>\n",
              "      <th>std_test_rmse</th>\n",
              "      <th>rank_test_rmse</th>\n",
              "      <th>split0_test_mae</th>\n",
              "      <th>split1_test_mae</th>\n",
              "      <th>split2_test_mae</th>\n",
              "      <th>mean_test_mae</th>\n",
              "      <th>std_test_mae</th>\n",
              "      <th>rank_test_mae</th>\n",
              "      <th>mean_fit_time</th>\n",
              "      <th>std_fit_time</th>\n",
              "      <th>mean_test_time</th>\n",
              "      <th>std_test_time</th>\n",
              "      <th>params</th>\n",
              "      <th>param_k</th>\n",
              "      <th>param_min_k</th>\n",
              "      <th>param_sim_options</th>\n",
              "    </tr>\n",
              "  </thead>\n",
              "  <tbody>\n",
              "    <tr>\n",
              "      <th>0</th>\n",
              "      <td>0.967862</td>\n",
              "      <td>0.959552</td>\n",
              "      <td>0.965314</td>\n",
              "      <td>0.964242</td>\n",
              "      <td>0.003476</td>\n",
              "      <td>1</td>\n",
              "      <td>0.745106</td>\n",
              "      <td>0.740213</td>\n",
              "      <td>0.739565</td>\n",
              "      <td>0.741628</td>\n",
              "      <td>0.002474</td>\n",
              "      <td>1</td>\n",
              "      <td>0.117232</td>\n",
              "      <td>0.005713</td>\n",
              "      <td>3.401470</td>\n",
              "      <td>0.082491</td>\n",
              "      <td>{'k': 20, 'min_k': 3, 'sim_options': {'name': ...</td>\n",
              "      <td>20</td>\n",
              "      <td>3</td>\n",
              "      <td>{'name': 'msd', 'user_based': True}</td>\n",
              "    </tr>\n",
              "    <tr>\n",
              "      <th>1</th>\n",
              "      <td>0.997377</td>\n",
              "      <td>0.988350</td>\n",
              "      <td>0.994134</td>\n",
              "      <td>0.993287</td>\n",
              "      <td>0.003733</td>\n",
              "      <td>13</td>\n",
              "      <td>0.771826</td>\n",
              "      <td>0.766618</td>\n",
              "      <td>0.766060</td>\n",
              "      <td>0.768168</td>\n",
              "      <td>0.002597</td>\n",
              "      <td>12</td>\n",
              "      <td>0.759178</td>\n",
              "      <td>0.040201</td>\n",
              "      <td>3.227883</td>\n",
              "      <td>0.102950</td>\n",
              "      <td>{'k': 20, 'min_k': 3, 'sim_options': {'name': ...</td>\n",
              "      <td>20</td>\n",
              "      <td>3</td>\n",
              "      <td>{'name': 'cosine', 'user_based': True}</td>\n",
              "    </tr>\n",
              "    <tr>\n",
              "      <th>2</th>\n",
              "      <td>0.974001</td>\n",
              "      <td>0.962184</td>\n",
              "      <td>0.968989</td>\n",
              "      <td>0.968391</td>\n",
              "      <td>0.004843</td>\n",
              "      <td>3</td>\n",
              "      <td>0.749519</td>\n",
              "      <td>0.742522</td>\n",
              "      <td>0.742625</td>\n",
              "      <td>0.744889</td>\n",
              "      <td>0.003275</td>\n",
              "      <td>3</td>\n",
              "      <td>0.176471</td>\n",
              "      <td>0.021559</td>\n",
              "      <td>3.653407</td>\n",
              "      <td>0.632565</td>\n",
              "      <td>{'k': 20, 'min_k': 6, 'sim_options': {'name': ...</td>\n",
              "      <td>20</td>\n",
              "      <td>6</td>\n",
              "      <td>{'name': 'msd', 'user_based': True}</td>\n",
              "    </tr>\n",
              "    <tr>\n",
              "      <th>3</th>\n",
              "      <td>1.001748</td>\n",
              "      <td>0.989817</td>\n",
              "      <td>0.996442</td>\n",
              "      <td>0.996003</td>\n",
              "      <td>0.004881</td>\n",
              "      <td>15</td>\n",
              "      <td>0.775021</td>\n",
              "      <td>0.768009</td>\n",
              "      <td>0.767969</td>\n",
              "      <td>0.770333</td>\n",
              "      <td>0.003315</td>\n",
              "      <td>15</td>\n",
              "      <td>0.721882</td>\n",
              "      <td>0.099134</td>\n",
              "      <td>3.125689</td>\n",
              "      <td>0.119950</td>\n",
              "      <td>{'k': 20, 'min_k': 6, 'sim_options': {'name': ...</td>\n",
              "      <td>20</td>\n",
              "      <td>6</td>\n",
              "      <td>{'name': 'cosine', 'user_based': True}</td>\n",
              "    </tr>\n",
              "    <tr>\n",
              "      <th>4</th>\n",
              "      <td>0.980107</td>\n",
              "      <td>0.967875</td>\n",
              "      <td>0.974770</td>\n",
              "      <td>0.974251</td>\n",
              "      <td>0.005007</td>\n",
              "      <td>7</td>\n",
              "      <td>0.754583</td>\n",
              "      <td>0.747739</td>\n",
              "      <td>0.746850</td>\n",
              "      <td>0.749724</td>\n",
              "      <td>0.003455</td>\n",
              "      <td>6</td>\n",
              "      <td>0.166644</td>\n",
              "      <td>0.052462</td>\n",
              "      <td>3.222846</td>\n",
              "      <td>0.132762</td>\n",
              "      <td>{'k': 20, 'min_k': 9, 'sim_options': {'name': ...</td>\n",
              "      <td>20</td>\n",
              "      <td>9</td>\n",
              "      <td>{'name': 'msd', 'user_based': True}</td>\n",
              "    </tr>\n",
              "  </tbody>\n",
              "</table>\n",
              "</div>\n",
              "      <button class=\"colab-df-convert\" onclick=\"convertToInteractive('df-ffce97f7-7c27-4574-afbf-5cc99124f16b')\"\n",
              "              title=\"Convert this dataframe to an interactive table.\"\n",
              "              style=\"display:none;\">\n",
              "        \n",
              "  <svg xmlns=\"http://www.w3.org/2000/svg\" height=\"24px\"viewBox=\"0 0 24 24\"\n",
              "       width=\"24px\">\n",
              "    <path d=\"M0 0h24v24H0V0z\" fill=\"none\"/>\n",
              "    <path d=\"M18.56 5.44l.94 2.06.94-2.06 2.06-.94-2.06-.94-.94-2.06-.94 2.06-2.06.94zm-11 1L8.5 8.5l.94-2.06 2.06-.94-2.06-.94L8.5 2.5l-.94 2.06-2.06.94zm10 10l.94 2.06.94-2.06 2.06-.94-2.06-.94-.94-2.06-.94 2.06-2.06.94z\"/><path d=\"M17.41 7.96l-1.37-1.37c-.4-.4-.92-.59-1.43-.59-.52 0-1.04.2-1.43.59L10.3 9.45l-7.72 7.72c-.78.78-.78 2.05 0 2.83L4 21.41c.39.39.9.59 1.41.59.51 0 1.02-.2 1.41-.59l7.78-7.78 2.81-2.81c.8-.78.8-2.07 0-2.86zM5.41 20L4 18.59l7.72-7.72 1.47 1.35L5.41 20z\"/>\n",
              "  </svg>\n",
              "      </button>\n",
              "      \n",
              "  <style>\n",
              "    .colab-df-container {\n",
              "      display:flex;\n",
              "      flex-wrap:wrap;\n",
              "      gap: 12px;\n",
              "    }\n",
              "\n",
              "    .colab-df-convert {\n",
              "      background-color: #E8F0FE;\n",
              "      border: none;\n",
              "      border-radius: 50%;\n",
              "      cursor: pointer;\n",
              "      display: none;\n",
              "      fill: #1967D2;\n",
              "      height: 32px;\n",
              "      padding: 0 0 0 0;\n",
              "      width: 32px;\n",
              "    }\n",
              "\n",
              "    .colab-df-convert:hover {\n",
              "      background-color: #E2EBFA;\n",
              "      box-shadow: 0px 1px 2px rgba(60, 64, 67, 0.3), 0px 1px 3px 1px rgba(60, 64, 67, 0.15);\n",
              "      fill: #174EA6;\n",
              "    }\n",
              "\n",
              "    [theme=dark] .colab-df-convert {\n",
              "      background-color: #3B4455;\n",
              "      fill: #D2E3FC;\n",
              "    }\n",
              "\n",
              "    [theme=dark] .colab-df-convert:hover {\n",
              "      background-color: #434B5C;\n",
              "      box-shadow: 0px 1px 3px 1px rgba(0, 0, 0, 0.15);\n",
              "      filter: drop-shadow(0px 1px 2px rgba(0, 0, 0, 0.3));\n",
              "      fill: #FFFFFF;\n",
              "    }\n",
              "  </style>\n",
              "\n",
              "      <script>\n",
              "        const buttonEl =\n",
              "          document.querySelector('#df-ffce97f7-7c27-4574-afbf-5cc99124f16b button.colab-df-convert');\n",
              "        buttonEl.style.display =\n",
              "          google.colab.kernel.accessAllowed ? 'block' : 'none';\n",
              "\n",
              "        async function convertToInteractive(key) {\n",
              "          const element = document.querySelector('#df-ffce97f7-7c27-4574-afbf-5cc99124f16b');\n",
              "          const dataTable =\n",
              "            await google.colab.kernel.invokeFunction('convertToInteractive',\n",
              "                                                     [key], {});\n",
              "          if (!dataTable) return;\n",
              "\n",
              "          const docLinkHtml = 'Like what you see? Visit the ' +\n",
              "            '<a target=\"_blank\" href=https://colab.research.google.com/notebooks/data_table.ipynb>data table notebook</a>'\n",
              "            + ' to learn more about interactive tables.';\n",
              "          element.innerHTML = '';\n",
              "          dataTable['output_type'] = 'display_data';\n",
              "          await google.colab.output.renderOutput(dataTable, element);\n",
              "          const docLink = document.createElement('div');\n",
              "          docLink.innerHTML = docLinkHtml;\n",
              "          element.appendChild(docLink);\n",
              "        }\n",
              "      </script>\n",
              "    </div>\n",
              "  </div>\n",
              "  "
            ]
          },
          "metadata": {},
          "execution_count": 36
        }
      ]
    },
    {
      "cell_type": "markdown",
      "source": [
        "Now, let's build the **final model by using tuned values of the hyperparameters**, which we received by using **grid search cross-validation**."
      ],
      "metadata": {
        "id": "1absEm_rKPrm"
      }
    },
    {
      "cell_type": "code",
      "source": [
        "# Using the optimal similarity measure for user_user based collaborative filtering\n",
        "# Creating an instance of KNNBasic with optimal hyperparameter values\n",
        "sim_options = {'name': 'msd', 'user_based': True}\n",
        "similarity_algo_optimized_user = KNNBasic(sim_options = sim_options, k = 20, min_k = 3, verbose = False)"
      ],
      "metadata": {
        "id": "VkR2LufTJ4b7"
      },
      "execution_count": 37,
      "outputs": []
    },
    {
      "cell_type": "code",
      "source": [
        "# Training the algorithm on the trainset\n",
        "similarity_algo_optimized_user.fit(trainset)"
      ],
      "metadata": {
        "colab": {
          "base_uri": "https://localhost:8080/"
        },
        "id": "j6wd7AyMKrAd",
        "outputId": "83a613fa-c44f-4c86-b44a-044f9874bb8e"
      },
      "execution_count": 38,
      "outputs": [
        {
          "output_type": "execute_result",
          "data": {
            "text/plain": [
              "<surprise.prediction_algorithms.knns.KNNBasic at 0x7f7036b7a7d0>"
            ]
          },
          "metadata": {},
          "execution_count": 38
        }
      ]
    },
    {
      "cell_type": "code",
      "source": [
        "# Predicting ratings for the testset\n",
        "predictions = similarity_algo_optimized_user.test(testset)"
      ],
      "metadata": {
        "id": "XJN0wTOBLMPG"
      },
      "execution_count": 39,
      "outputs": []
    },
    {
      "cell_type": "code",
      "source": [
        "# Computing RMSE on testset\n",
        "accuracy.rmse(predictions)"
      ],
      "metadata": {
        "colab": {
          "base_uri": "https://localhost:8080/"
        },
        "id": "WTPMBA1JLVXD",
        "outputId": "986d503f-e410-4202-a529-7651e216c06a"
      },
      "execution_count": 40,
      "outputs": [
        {
          "output_type": "stream",
          "name": "stdout",
          "text": [
            "RMSE: 0.9571\n"
          ]
        },
        {
          "output_type": "execute_result",
          "data": {
            "text/plain": [
              "0.9571445417153293"
            ]
          },
          "metadata": {},
          "execution_count": 40
        }
      ]
    },
    {
      "cell_type": "markdown",
      "source": [
        "**Write your Answer here:** This hyperparameters-tuned model, RMSE for testset has decreased from 0.99 to 0.95.  So this model is improving after tuning."
      ],
      "metadata": {
        "id": "FRU1TNFYLiZG"
      }
    },
    {
      "cell_type": "markdown",
      "source": [
        "**Q 3.4 What is the Predicted rating for an user with userId =4 and for movieId= 10 and movieId=3 using tuned user based collaborative filtering?**"
      ],
      "metadata": {
        "id": "UnRSQ9VdMdhp"
      }
    },
    {
      "cell_type": "markdown",
      "source": [
        "Let's us now predict rating for an user with userId=4 and for movieId=10 with the optimized model"
      ],
      "metadata": {
        "id": "4E-FldJdME17"
      }
    },
    {
      "cell_type": "code",
      "source": [
        "similarity_algo_optimized_user.predict(4, 10, r_ui = 4, verbose = True)"
      ],
      "metadata": {
        "colab": {
          "base_uri": "https://localhost:8080/"
        },
        "id": "SWEOeNUWLZuX",
        "outputId": "50cb30ea-25ae-4c6f-b03a-1ca79469b59a"
      },
      "execution_count": 41,
      "outputs": [
        {
          "output_type": "stream",
          "name": "stdout",
          "text": [
            "user: 4          item: 10         r_ui = 4.00   est = 3.74   {'actual_k': 20, 'was_impossible': False}\n"
          ]
        },
        {
          "output_type": "execute_result",
          "data": {
            "text/plain": [
              "Prediction(uid=4, iid=10, r_ui=4, est=3.740028692988536, details={'actual_k': 20, 'was_impossible': False})"
            ]
          },
          "metadata": {},
          "execution_count": 41
        }
      ]
    },
    {
      "cell_type": "markdown",
      "source": [
        "**Write your Answer here:** Compared to the old model, this newer model is predicating better with estimated rating of 3.74.  It is closer to the real rating(4) comparing to the previous model, which is estimated at 3.62"
      ],
      "metadata": {
        "id": "Sx2c21vjMqnH"
      }
    },
    {
      "cell_type": "markdown",
      "source": [
        "Below we are predicting rating for the same userId=4 but for a movie which this user has not interacted before i.e. movieId=3, by using the optimized model as shown below "
      ],
      "metadata": {
        "id": "yP9yDH8PNDY5"
      }
    },
    {
      "cell_type": "code",
      "source": [
        "similarity_algo_optimized_user.predict(4,3,verbose = True)"
      ],
      "metadata": {
        "colab": {
          "base_uri": "https://localhost:8080/"
        },
        "id": "pobYKRjVMlW8",
        "outputId": "c20dace0-f52d-4b21-9db9-6050870bf212"
      },
      "execution_count": 42,
      "outputs": [
        {
          "output_type": "stream",
          "name": "stdout",
          "text": [
            "user: 4          item: 3          r_ui = None   est = 3.72   {'actual_k': 20, 'was_impossible': False}\n"
          ]
        },
        {
          "output_type": "execute_result",
          "data": {
            "text/plain": [
              "Prediction(uid=4, iid=3, r_ui=None, est=3.7228745701935386, details={'actual_k': 20, 'was_impossible': False})"
            ]
          },
          "metadata": {},
          "execution_count": 42
        }
      ]
    },
    {
      "cell_type": "markdown",
      "source": [
        "**Write your Answer here:** Comparing to previous model, which estimated for this moveId3 with rating of 3.2, now with the new calculation, we estimated user4 will give moveId3 rating of 3.72 instead of 3.2"
      ],
      "metadata": {
        "id": "xehZ0_bvNRgv"
      }
    },
    {
      "cell_type": "markdown",
      "source": [
        "**Identifying similar users to a given user (nearest neighbors)**"
      ],
      "metadata": {
        "id": "1UJYde46Nyau"
      }
    },
    {
      "cell_type": "markdown",
      "source": [
        "We can also find out the similar users to a given user or its nearest neighbors based on this KNNBasic algorithm. Below we are finding 5 most similar user to the userId=4 based on the msd distance metric"
      ],
      "metadata": {
        "id": "1rS3fsp-N9p1"
      }
    },
    {
      "cell_type": "code",
      "source": [
        "similarity_algo_optimized_user.get_neighbors(4, k = 5)"
      ],
      "metadata": {
        "colab": {
          "base_uri": "https://localhost:8080/"
        },
        "id": "udqDA46uNMUd",
        "outputId": "2d79c8ae-e66d-4918-e4cd-d0e15787790f"
      },
      "execution_count": 43,
      "outputs": [
        {
          "output_type": "execute_result",
          "data": {
            "text/plain": [
              "[665, 417, 647, 654, 260]"
            ]
          },
          "metadata": {},
          "execution_count": 43
        }
      ]
    },
    {
      "cell_type": "markdown",
      "source": [
        "**Implementing the recommendation algorithm based on optimized KNNBasic model**"
      ],
      "metadata": {
        "id": "Pltx77LsONE2"
      }
    },
    {
      "cell_type": "markdown",
      "source": [
        "Below we will be implementing a function where the input parameters are -\n",
        "\n",
        "    data: a rating dataset\n",
        "\n",
        "    user_id: an user id against which we want the recommendations\n",
        "\n",
        "    top_n: the number of movies we want to recommend\n",
        "\n",
        "    algo: the algorithm we want to use to predict the ratings\n",
        "\n"
      ],
      "metadata": {
        "id": "GzlXam_1Oos-"
      }
    },
    {
      "cell_type": "code",
      "source": [
        "def get_recommendations(data, user_id, top_n, algo):\n",
        "  # Creating an empty list to store the recommended movieIds\n",
        "  recommendations = []\n",
        "  # Creating an user item interaction matrix\n",
        "  user_item_interactions_matrix = data.pivot(index = 'userId', columns = 'movieId', values = 'rating')\n",
        "  # Extracting those movieIds which the userId has not interacted yet\n",
        "  non_interacted_movies = user_item_interactions_matrix.loc[user_id][user_item_interactions_matrix.loc[user_id].isnull()].index.tolist()\n",
        "  # Looping through each of the movieId which userId has not interacted yet\n",
        "  for item_id in non_interacted_movies:\n",
        "    #Predicting the ratings for those non interacted movie ids by this user\n",
        "    est = algo.predict(user_id, item_id).est\n",
        "    # Appending the predicted ratings\n",
        "    recommendations.append((item_id,est))\n",
        "  # Sorting the predicted ratings in descending order\n",
        "  recommendations.sort( key = lambda x: x[1], reverse = True)\n",
        "\n",
        "  return recommendations[:top_n] # returning top_n highest predicted rating movies for this users"
      ],
      "metadata": {
        "id": "-q3ssm23ODZQ"
      },
      "execution_count": 44,
      "outputs": []
    },
    {
      "cell_type": "markdown",
      "source": [
        "**Predicted top 5 movies for userId=4 with similarity based recommendation system**"
      ],
      "metadata": {
        "id": "8bv3J-10QQOi"
      }
    },
    {
      "cell_type": "code",
      "source": [
        "recommendations = get_recommendations(rating,4,5,similarity_algo_optimized_user)"
      ],
      "metadata": {
        "id": "0OKfQUXfPWmD"
      },
      "execution_count": 45,
      "outputs": []
    },
    {
      "cell_type": "markdown",
      "source": [
        "**Q 3.5 Predict the top 5 movies for userId=4 with similarity based recommendation system**"
      ],
      "metadata": {
        "id": "FlxQdwOhQ46E"
      }
    },
    {
      "cell_type": "code",
      "source": [
        "recommendations"
      ],
      "metadata": {
        "colab": {
          "base_uri": "https://localhost:8080/"
        },
        "id": "SY9sjw0XQiB9",
        "outputId": "4c6cf4b2-80cb-48e6-fc6d-fdfbf1798d91"
      },
      "execution_count": 46,
      "outputs": [
        {
          "output_type": "execute_result",
          "data": {
            "text/plain": [
              "[(309, 5),\n",
              " (3038, 5),\n",
              " (6273, 4.928202652354184),\n",
              " (98491, 4.863224466679252),\n",
              " (2721, 4.845513973527148)]"
            ]
          },
          "metadata": {},
          "execution_count": 46
        }
      ]
    },
    {
      "cell_type": "markdown",
      "source": [
        "# **Model 3: Item based Collaborative Filtering Recommendation System**"
      ],
      "metadata": {
        "id": "JN8zmj1FRJVW"
      }
    },
    {
      "cell_type": "code",
      "source": [
        "# Definging similarity measure\n",
        "sim_options = {'name': 'cosine', 'user_based' : False}\n",
        "# Defining Nearest Neighbour algorithm\n",
        "algo_knn_item = KNNBasic(sim_options = sim_options, verbose = False)\n",
        "# Train the algorithm on the trainset or fitting the model on train dataset\n",
        "algo_knn_item.fit(trainset)\n",
        "# Predict ratings for the testset\n",
        "predictions = algo_knn_item.test(testset)\n",
        "# Compute RMSE\n",
        "accuracy.rmse(predictions)"
      ],
      "metadata": {
        "colab": {
          "base_uri": "https://localhost:8080/"
        },
        "id": "ZzxOQDfYQ8nM",
        "outputId": "6cbd0e08-1399-44c0-f405-df288d662894"
      },
      "execution_count": 47,
      "outputs": [
        {
          "output_type": "stream",
          "name": "stdout",
          "text": [
            "RMSE: 1.0032\n"
          ]
        },
        {
          "output_type": "execute_result",
          "data": {
            "text/plain": [
              "1.003221450633729"
            ]
          },
          "metadata": {},
          "execution_count": 47
        }
      ]
    },
    {
      "cell_type": "markdown",
      "source": [
        "**Q 4.1 What is the RMSE for baseline item based collaborative filtering recommendation system ?**"
      ],
      "metadata": {
        "id": "XF-WaxzuR5KF"
      }
    },
    {
      "cell_type": "markdown",
      "source": [
        "**Write your Answer here:** The RMSE for baseline item-based collaborative filtering recommendation system is about 1.00"
      ],
      "metadata": {
        "id": "2qBqGJFUSZV8"
      }
    },
    {
      "cell_type": "markdown",
      "source": [
        "**Q 4.2 What is the Predicted rating for an user with userId =4 and for movieId= 10 and movieId=3?**"
      ],
      "metadata": {
        "id": "QCAXSHPFSu8g"
      }
    },
    {
      "cell_type": "markdown",
      "source": [
        "Let's us now predict rating for an user with userId=4 and for movieId=10"
      ],
      "metadata": {
        "id": "MaY4lXppS-Pw"
      }
    },
    {
      "cell_type": "code",
      "source": [
        "algo_knn_item.predict(4,10,r_ui = 4, verbose = True)"
      ],
      "metadata": {
        "colab": {
          "base_uri": "https://localhost:8080/"
        },
        "id": "-KYyU21_RWlw",
        "outputId": "b4fff00e-5f80-4036-d0b2-3c4fd835c19b"
      },
      "execution_count": 48,
      "outputs": [
        {
          "output_type": "stream",
          "name": "stdout",
          "text": [
            "user: 4          item: 10         r_ui = 4.00   est = 4.37   {'actual_k': 40, 'was_impossible': False}\n"
          ]
        },
        {
          "output_type": "execute_result",
          "data": {
            "text/plain": [
              "Prediction(uid=4, iid=10, r_ui=4, est=4.373794871885004, details={'actual_k': 40, 'was_impossible': False})"
            ]
          },
          "metadata": {},
          "execution_count": 48
        }
      ]
    },
    {
      "cell_type": "markdown",
      "source": [
        "**Write your Answer here:** The estimated rating for user4, movie10 is 4.37 based on this item-based collaborative system.  The actual rating is 4"
      ],
      "metadata": {
        "id": "emlH50fyS_xW"
      }
    },
    {
      "cell_type": "markdown",
      "source": [
        "Let's predict the rating for the same userId=4 but for a movie which this user has not interacted before i.e. movieId=3"
      ],
      "metadata": {
        "id": "26SQruwhTNvL"
      }
    },
    {
      "cell_type": "code",
      "source": [
        "algo_knn_item.predict(4,3,verbose = True)"
      ],
      "metadata": {
        "colab": {
          "base_uri": "https://localhost:8080/"
        },
        "id": "OooZnKV4S4dp",
        "outputId": "8f0cc168-0f48-4b43-e131-dac180a0b2a2"
      },
      "execution_count": 49,
      "outputs": [
        {
          "output_type": "stream",
          "name": "stdout",
          "text": [
            "user: 4          item: 3          r_ui = None   est = 4.07   {'actual_k': 40, 'was_impossible': False}\n"
          ]
        },
        {
          "output_type": "execute_result",
          "data": {
            "text/plain": [
              "Prediction(uid=4, iid=3, r_ui=None, est=4.071601862880049, details={'actual_k': 40, 'was_impossible': False})"
            ]
          },
          "metadata": {},
          "execution_count": 49
        }
      ]
    },
    {
      "cell_type": "markdown",
      "source": [
        "**Write your Answer here:** Based on this model, we estimated user4 will give move3 a rating of 4.07"
      ],
      "metadata": {
        "id": "gnuBiqynTYrv"
      }
    },
    {
      "cell_type": "markdown",
      "source": [
        "**Q 4.3 Perform hyperparameter tuning for the baseline item based collaborative filtering recommendation system and find the RMSE for tuned item based collaborative filtering recommendation system?**"
      ],
      "metadata": {
        "id": "AyqX-e1tTi9z"
      }
    },
    {
      "cell_type": "code",
      "source": [
        "# Setting up parameter grid to tune the hyperparameters\n",
        "param_grid = { 'k' : [20,30,40], 'min_k' : [3,6,9], 'sim_options' : {'name': ['msd', 'cosine'], 'user_based': [False]}}\n",
        "# Performing 3-fold cross validation to tune the hyperparameters\n",
        "grid_obj = GridSearchCV(KNNBasic, param_grid, measures = ['rmse', 'mae'], cv = 3, n_jobs = -1)\n",
        "# Fitting the data\n",
        "grid_obj.fit(data)\n",
        "# Best RMSE score\n",
        "print(grid_obj.best_score['rmse'])\n",
        "# Combination of parameters that gave the best RMSE score\n",
        "print(grid_obj.best_params['rmse'])"
      ],
      "metadata": {
        "colab": {
          "base_uri": "https://localhost:8080/"
        },
        "id": "MP4f5oNCTTL1",
        "outputId": "2aee9ea3-e372-4407-9217-94e8c9c09910"
      },
      "execution_count": 50,
      "outputs": [
        {
          "output_type": "stream",
          "name": "stdout",
          "text": [
            "0.9391801640766153\n",
            "{'k': 40, 'min_k': 3, 'sim_options': {'name': 'msd', 'user_based': False}}\n"
          ]
        }
      ]
    },
    {
      "cell_type": "markdown",
      "source": [
        "**Write your Answer here:** From this grid search, we can see the optimal hyperparameters for this KNNBasic model is: 'k' = 40, 'min_k' = 3, 'sim_options' = 'msd'}"
      ],
      "metadata": {
        "id": "6D0Zkz9lcnX0"
      }
    },
    {
      "cell_type": "markdown",
      "source": [
        "Below we are analysing evaluation metrics - RMSE and MAE at each and every split to analyze the impact of each value of hyperparameters"
      ],
      "metadata": {
        "id": "WC4Dn1VtdJB1"
      }
    },
    {
      "cell_type": "code",
      "source": [
        "results_df = pd.DataFrame.from_dict(grid_obj.cv_results)\n",
        "results_df.head()"
      ],
      "metadata": {
        "id": "9E2QUZ9mTmbi"
      },
      "execution_count": null,
      "outputs": []
    },
    {
      "cell_type": "markdown",
      "source": [
        "Now let's build the **final model** by using t**uned values of the hyperparameters** which we received by using grid search cross-validation."
      ],
      "metadata": {
        "id": "KLHCve6qdaIF"
      }
    },
    {
      "cell_type": "code",
      "source": [
        "# Creating an instance of KNNBasic with optimal hyperparameter values\n",
        "similarity_algo_optimized_item = KNNBasic (sim_options = { 'name': 'msd', 'user_based' : False}, k = 40, min_k = 3, verbose = False)\n",
        "# Training the algorithm on the trainset\n",
        "similarity_algo_optimized_item.fit(trainset)\n",
        "# Predicting ratings for the testset\n",
        "predictions = similarity_algo_optimized_item.test(testset)\n",
        "# Computing RMSE on testset\n",
        "accuracy.rmse(predictions)"
      ],
      "metadata": {
        "colab": {
          "base_uri": "https://localhost:8080/"
        },
        "id": "aNHQIsKadWOM",
        "outputId": "fb6fe539-0f99-461d-c3e2-c60d15315b9b"
      },
      "execution_count": 52,
      "outputs": [
        {
          "output_type": "stream",
          "name": "stdout",
          "text": [
            "RMSE: 0.9433\n"
          ]
        },
        {
          "output_type": "execute_result",
          "data": {
            "text/plain": [
              "0.9433184999641279"
            ]
          },
          "metadata": {},
          "execution_count": 52
        }
      ]
    },
    {
      "cell_type": "markdown",
      "source": [
        "**Write your Answer here:** After tuning the model, the new RMSE for testset has decreased from 1.00 to 0.94.  Therefore this tuned model is improving."
      ],
      "metadata": {
        "id": "TLh0BHCZehFP"
      }
    },
    {
      "cell_type": "markdown",
      "source": [
        "**Q 4.4 What is the Predicted rating for an item with userId =4 and for movieId= 10 and movieId=3 using tuned item based collaborative filtering?**"
      ],
      "metadata": {
        "id": "_1T1A_Sve2qa"
      }
    },
    {
      "cell_type": "markdown",
      "source": [
        "Let's us now predict rating for an user with userId=4 and for movieId=10 with the optimized model as shown below"
      ],
      "metadata": {
        "id": "n8-Zw1bbe5p1"
      }
    },
    {
      "cell_type": "code",
      "source": [
        "similarity_algo_optimized_item.predict(4, 10,r_ui = 4, verbose = True)"
      ],
      "metadata": {
        "colab": {
          "base_uri": "https://localhost:8080/"
        },
        "id": "n7n-0It_dg4E",
        "outputId": "b1b08214-fbfd-4a3e-f830-54adff657791"
      },
      "execution_count": 53,
      "outputs": [
        {
          "output_type": "stream",
          "name": "stdout",
          "text": [
            "user: 4          item: 10         r_ui = 4.00   est = 4.26   {'actual_k': 40, 'was_impossible': False}\n"
          ]
        },
        {
          "output_type": "execute_result",
          "data": {
            "text/plain": [
              "Prediction(uid=4, iid=10, r_ui=4, est=4.255054787154994, details={'actual_k': 40, 'was_impossible': False})"
            ]
          },
          "metadata": {},
          "execution_count": 53
        }
      ]
    },
    {
      "cell_type": "markdown",
      "source": [
        "**Write your Answer here:** The new estimated rating for movieId 10 of user4 is improved from 4.37 to 4.26"
      ],
      "metadata": {
        "id": "L6BQem9IfNc8"
      }
    },
    {
      "cell_type": "markdown",
      "source": [
        "Let's predict the rating for the same userId=4 but for a movie which this user has not interacted before i.e. movieId=3, by using the optimized model:"
      ],
      "metadata": {
        "id": "_0E95zelfogY"
      }
    },
    {
      "cell_type": "code",
      "source": [
        "similarity_algo_optimized_item.predict(4,3,verbose = True)"
      ],
      "metadata": {
        "colab": {
          "base_uri": "https://localhost:8080/"
        },
        "id": "Es-U5hHdfJ9t",
        "outputId": "f1379ddd-27f0-4a45-9be2-e76278c4060f"
      },
      "execution_count": 54,
      "outputs": [
        {
          "output_type": "stream",
          "name": "stdout",
          "text": [
            "user: 4          item: 3          r_ui = None   est = 3.87   {'actual_k': 40, 'was_impossible': False}\n"
          ]
        },
        {
          "output_type": "execute_result",
          "data": {
            "text/plain": [
              "Prediction(uid=4, iid=3, r_ui=None, est=3.865175609312417, details={'actual_k': 40, 'was_impossible': False})"
            ]
          },
          "metadata": {},
          "execution_count": 54
        }
      ]
    },
    {
      "cell_type": "markdown",
      "source": [
        "**Write your Answer here**: Consequently, this model estimate user4 will give movieId3 a rating of 3.87 instead of 4.07"
      ],
      "metadata": {
        "id": "jN2vEFSNfxT4"
      }
    },
    {
      "cell_type": "markdown",
      "source": [
        "**Identifying similar users to a given user (nearest neighbors)**"
      ],
      "metadata": {
        "id": "d678STSOgAAt"
      }
    },
    {
      "cell_type": "markdown",
      "source": [
        "We can also find out the similar users to a given user or its nearest neighbors based on this KNNBasic algorithm. Below we are finding 5 most similar user to the userId=4 based on the msd distance metric"
      ],
      "metadata": {
        "id": "v1RybJjIgDwE"
      }
    },
    {
      "cell_type": "code",
      "source": [
        "similarity_algo_optimized_item.get_neighbors(4, k = 5)"
      ],
      "metadata": {
        "colab": {
          "base_uri": "https://localhost:8080/"
        },
        "id": "nbJmx92ofu6i",
        "outputId": "a8b3389d-3810-4d89-a2dd-81b6c6fe12d6"
      },
      "execution_count": 55,
      "outputs": [
        {
          "output_type": "execute_result",
          "data": {
            "text/plain": [
              "[77, 85, 115, 119, 127]"
            ]
          },
          "metadata": {},
          "execution_count": 55
        }
      ]
    },
    {
      "cell_type": "markdown",
      "source": [
        "**Predicted top 5 movies for userId=4 with similarity based recommendation system**"
      ],
      "metadata": {
        "id": "t1D4eunhgdPQ"
      }
    },
    {
      "cell_type": "code",
      "source": [
        "recommendations = get_recommendations(rating, 4, 5, similarity_algo_optimized_item)"
      ],
      "metadata": {
        "id": "T3Yj16U9gJjg"
      },
      "execution_count": 56,
      "outputs": []
    },
    {
      "cell_type": "markdown",
      "source": [
        "**Q 4.5 Predict the top 5 movies for userId=4 with similarity based recommendation system**"
      ],
      "metadata": {
        "id": "0bGSeOn0grg9"
      }
    },
    {
      "cell_type": "code",
      "source": [
        "recommendations"
      ],
      "metadata": {
        "colab": {
          "base_uri": "https://localhost:8080/"
        },
        "id": "CUpIAgUigl2a",
        "outputId": "59688aa4-a52f-4e5f-a24f-ef9bc819c021"
      },
      "execution_count": 57,
      "outputs": [
        {
          "output_type": "execute_result",
          "data": {
            "text/plain": [
              "[(84, 5), (1040, 5), (2481, 5), (3078, 5), (3116, 5)]"
            ]
          },
          "metadata": {},
          "execution_count": 57
        }
      ]
    },
    {
      "cell_type": "markdown",
      "source": [
        "# **Model 4: Based Collaborative Filtering - Matrix Factorization using SVD**"
      ],
      "metadata": {
        "id": "N0ZeSUepg14t"
      }
    },
    {
      "cell_type": "markdown",
      "source": [
        "Model-based Collaborative Filtering is a **personalized recommendation system**, the recommendations are based on the past behavior of the user and it is not dependent on any additional information. We use **latent features** to find recommendations for each user.\n",
        "\n",
        "**Latent Features**: The features that are not present in the empirical data but can be inferred from the data. For example:"
      ],
      "metadata": {
        "id": "JlCyCXDihEyR"
      }
    },
    {
      "cell_type": "markdown",
      "source": [
        "![CF3.PNG](data:image/png;base64,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)"
      ],
      "metadata": {
        "id": "IRkqTBkvhNoX"
      }
    },
    {
      "cell_type": "markdown",
      "source": [
        "Now if we notice the above movies closely:"
      ],
      "metadata": {
        "id": "kLZw72_zhdf9"
      }
    },
    {
      "cell_type": "markdown",
      "source": [
        "![CF4.PNG](data:image/png;base64,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)"
      ],
      "metadata": {
        "id": "BMAkOTlfhj-X"
      }
    },
    {
      "cell_type": "markdown",
      "source": [
        "Here **Action, Romance, Suspense and Comedy **are latent features of the corresponding movies. Similarly, we can compute the latent features for users as shown below:"
      ],
      "metadata": {
        "id": "uyaW1I2Zh50Z"
      }
    },
    {
      "cell_type": "markdown",
      "source": [
        "![CF5.PNG](data:image/png;base64,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)"
      ],
      "metadata": {
        "id": "K6Qh_cBaiCBN"
      }
    },
    {
      "cell_type": "markdown",
      "source": [
        "**Singular Value Decomposition (SVD)**"
      ],
      "metadata": {
        "id": "xEkXZUXRiGt4"
      }
    },
    {
      "cell_type": "markdown",
      "source": [
        "SVD is used to **compute the latent features** from the **user-item matrix**. But SVD does not work when we **miss values** in the **user-item matrix**."
      ],
      "metadata": {
        "id": "FycHA9hriUgw"
      }
    },
    {
      "cell_type": "markdown",
      "source": [
        "First we need to convert the below movie-rating dataset:"
      ],
      "metadata": {
        "id": "7QU6KmBxitG6"
      }
    },
    {
      "cell_type": "markdown",
      "source": [
        "![CF3.PNG](data:image/png;base64,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)"
      ],
      "metadata": {
        "id": "PGfVB2aOivU8"
      }
    },
    {
      "cell_type": "markdown",
      "source": [
        "into an user-item matrix as shown below:"
      ],
      "metadata": {
        "id": "D6wC1RYei693"
      }
    },
    {
      "cell_type": "markdown",
      "source": [
        "![CF6.PNG](data:image/png;base64,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)"
      ],
      "metadata": {
        "id": "Qleshnnni8Lq"
      }
    },
    {
      "cell_type": "markdown",
      "source": [
        "We have already done this above while computing cosine similarities.\n",
        "\n",
        "**SVD decomposes this above matrix into three separate matrices**:\n",
        "\n",
        "  U matrix\n",
        "\n",
        "  Sigma matrix\n",
        "\n",
        "  V transpose matrix"
      ],
      "metadata": {
        "id": "Y133td8cjBNI"
      }
    },
    {
      "cell_type": "markdown",
      "source": [
        "**U-matrix**"
      ],
      "metadata": {
        "id": "p5Y1qEmfjlA8"
      }
    },
    {
      "cell_type": "markdown",
      "source": [
        "![CF7.PNG](data:image/png;base64,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)"
      ],
      "metadata": {
        "id": "3XMFcPx2jsaQ"
      }
    },
    {
      "cell_type": "markdown",
      "source": [
        "the above matrix is a n x k matrix, where:\n",
        "\n",
        "n is number of users\n",
        "\n",
        "k is number of latent features"
      ],
      "metadata": {
        "id": "2EY1zM_Ujuv-"
      }
    },
    {
      "cell_type": "markdown",
      "source": [
        "**Sigma-matrix**"
      ],
      "metadata": {
        "id": "YakEDaMvj00D"
      }
    },
    {
      "cell_type": "markdown",
      "source": [
        "![CF8.PNG](data:image/png;base64,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)"
      ],
      "metadata": {
        "id": "CGhnnu03j3PW"
      }
    },
    {
      "cell_type": "markdown",
      "source": [
        "the above matrix is a k x k matrix, where:\n",
        "\n",
        "  k is number of latent features\n",
        "\n",
        "  Each diagonal entry is the singular value of the original interaction matrix"
      ],
      "metadata": {
        "id": "KFohOQGDkAG_"
      }
    },
    {
      "cell_type": "markdown",
      "source": [
        "**V-transpose matrix**"
      ],
      "metadata": {
        "id": "zwG2J0ktkHW4"
      }
    },
    {
      "cell_type": "markdown",
      "source": [
        "![CF9.PNG](data:image/png;base64,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)"
      ],
      "metadata": {
        "id": "VFUFQzxJkJex"
      }
    },
    {
      "cell_type": "markdown",
      "source": [
        "the above matrix is a kxn matrix, where:\n",
        "\n",
        "  k is the number of latent features\n",
        "  \n",
        "  n is the number of items"
      ],
      "metadata": {
        "id": "CxR-W64BkORt"
      }
    },
    {
      "cell_type": "markdown",
      "source": [
        "**Build a baseline matrix factorization recommendation system**"
      ],
      "metadata": {
        "id": "xgM7_7LnkTl0"
      }
    },
    {
      "cell_type": "code",
      "source": [
        "# Using SVD matrix factorization\n",
        "algo_svd = SVD()\n",
        "# Training the algorithm on the trainset\n",
        "algo_svd.fit(trainset)\n",
        "# Predicting ratings for the testset\n",
        "predictions = algo_svd.test(testset)\n",
        "# Computing RMSE on the testset\n",
        "accuracy.rmse(predictions)"
      ],
      "metadata": {
        "colab": {
          "base_uri": "https://localhost:8080/"
        },
        "id": "2DjsldYJhn6L",
        "outputId": "ddaa461c-42a3-49b8-8cb1-46c156e1289f"
      },
      "execution_count": 58,
      "outputs": [
        {
          "output_type": "stream",
          "name": "stdout",
          "text": [
            "RMSE: 0.9040\n"
          ]
        },
        {
          "output_type": "execute_result",
          "data": {
            "text/plain": [
              "0.904029112971023"
            ]
          },
          "metadata": {},
          "execution_count": 58
        }
      ]
    },
    {
      "cell_type": "markdown",
      "source": [
        "**Q 5.1 What is the RMSE for baseline SVD based collaborative filtering recommendation system?**"
      ],
      "metadata": {
        "id": "fKw4LSa4ksI1"
      }
    },
    {
      "cell_type": "markdown",
      "source": [
        "**Write your Answer here:** This SVD based collaborative filtering recommendation system generate RMSE of 0.90 which is better than tuned item-based, or user-based recommendation system."
      ],
      "metadata": {
        "id": "nr3z0CQYkzZy"
      }
    },
    {
      "cell_type": "markdown",
      "source": [
        "**Q 5.2 What is the Predicted rating for an user with userId =4 and for movieId= 10 and movieId=3?**"
      ],
      "metadata": {
        "id": "wiNBKtzklPrp"
      }
    },
    {
      "cell_type": "markdown",
      "source": [
        "Let's us now predict rating for an user with userId=4 and for movieId=10"
      ],
      "metadata": {
        "id": "jn0o_goFlTK_"
      }
    },
    {
      "cell_type": "code",
      "source": [
        "algo_svd.predict(4, 10, r_ui = 4, verbose = True)"
      ],
      "metadata": {
        "colab": {
          "base_uri": "https://localhost:8080/"
        },
        "id": "CmcBy4xkgujn",
        "outputId": "0566ced2-ed1f-4528-eca9-bb393f8208bb"
      },
      "execution_count": 59,
      "outputs": [
        {
          "output_type": "stream",
          "name": "stdout",
          "text": [
            "user: 4          item: 10         r_ui = 4.00   est = 4.13   {'was_impossible': False}\n"
          ]
        },
        {
          "output_type": "execute_result",
          "data": {
            "text/plain": [
              "Prediction(uid=4, iid=10, r_ui=4, est=4.128102010307825, details={'was_impossible': False})"
            ]
          },
          "metadata": {},
          "execution_count": 59
        }
      ]
    },
    {
      "cell_type": "markdown",
      "source": [
        "**Write your Answer here:** This rating of 4.05 is better than the previous two ratings: 4.26 and 4.37"
      ],
      "metadata": {
        "id": "u3_Bmvmcljtr"
      }
    },
    {
      "cell_type": "markdown",
      "source": [
        "Let's predict the rating for the same userId=4 but for a movie which this user has not interacted before i.e. movieId=3:"
      ],
      "metadata": {
        "id": "Cqfr3S2QmATy"
      }
    },
    {
      "cell_type": "code",
      "source": [
        "algo_svd.predict(4,3,verbose = True)"
      ],
      "metadata": {
        "colab": {
          "base_uri": "https://localhost:8080/"
        },
        "id": "N-wfiLQJlfLV",
        "outputId": "13477cc2-c3cc-48b4-dcfb-48eb9f38934e"
      },
      "execution_count": 60,
      "outputs": [
        {
          "output_type": "stream",
          "name": "stdout",
          "text": [
            "user: 4          item: 3          r_ui = None   est = 3.67   {'was_impossible': False}\n"
          ]
        },
        {
          "output_type": "execute_result",
          "data": {
            "text/plain": [
              "Prediction(uid=4, iid=3, r_ui=None, est=3.6734618701644517, details={'was_impossible': False})"
            ]
          },
          "metadata": {},
          "execution_count": 60
        }
      ]
    },
    {
      "cell_type": "markdown",
      "source": [
        "**Write your Answer here:** Based on this model, we estimated user4 will give movieId 3 a rating of 3.69"
      ],
      "metadata": {
        "id": "Y2YQfhElmHsk"
      }
    },
    {
      "cell_type": "markdown",
      "source": [
        "**Improving matrix factorization based recommendation system by tuning its hyper-parameters**"
      ],
      "metadata": {
        "id": "oKWTCiFnmVpB"
      }
    },
    {
      "cell_type": "markdown",
      "source": [
        "Below we will be tuning only three hyperparameters -\n",
        "\n",
        "**n_epochs**: The number of iteration of the SGD algorithm\n",
        "\n",
        "**lr_all:** The learning rate for all parameters\n",
        "\n",
        "**reg_all**: The regularization term for all parameters"
      ],
      "metadata": {
        "id": "BEuqXaP3mifV"
      }
    },
    {
      "cell_type": "markdown",
      "source": [
        "***Q 5.3 Perform hyperparameter tuning for the baseline SVD based collaborative filtering recommendation system and find the RMSE for tuned SVD based collaborative filtering recommendation system? ***"
      ],
      "metadata": {
        "id": "YYDgqyMw1D2W"
      }
    },
    {
      "cell_type": "code",
      "source": [
        "# Set the parameter space to tune\n",
        "param_grid = { 'n_epochs': [10,20,30], 'lr_all' : [0.001, 0.005, 0.01], 'reg_all': [0.2, 0.4, 0.6]}\n",
        "# Performing 3-fold gridsearch cross validation\n",
        "gs = GridSearchCV (SVD, param_grid, measures = ['rmse', 'mae'], cv = 3, n_jobs = -1)\n",
        "# Fitting data\n",
        "gs.fit(data)\n",
        "# Best RMSE score\n",
        "print(gs.best_score['rmse'])\n",
        "# Combination of parameters that gave the best RMSE score\n",
        "print(gs.best_params['rmse'])"
      ],
      "metadata": {
        "colab": {
          "base_uri": "https://localhost:8080/"
        },
        "id": "yQUgIe-cmE0-",
        "outputId": "44ecd3c8-e26c-402f-c0ba-263cfd82dbad"
      },
      "execution_count": 61,
      "outputs": [
        {
          "output_type": "stream",
          "name": "stdout",
          "text": [
            "0.894100617488386\n",
            "{'n_epochs': 30, 'lr_all': 0.01, 'reg_all': 0.2}\n"
          ]
        }
      ]
    },
    {
      "cell_type": "markdown",
      "source": [
        "**Write your Answer here:** We find the optimal values of this SVD based collaborative filtering recommendation system.  n_epochs: 30, lr_all: 0.01 and reg_all: 0.2"
      ],
      "metadata": {
        "id": "e_yZm5rw4DPB"
      }
    },
    {
      "cell_type": "markdown",
      "source": [
        "Below we are analysing evaluation metrics - RMSE and MAE at each and every split to analyze the impact of each value of hyperparameters"
      ],
      "metadata": {
        "id": "8_P9Unvs4ZYP"
      }
    },
    {
      "cell_type": "code",
      "source": [
        "results_df = pd.DataFrame.from_dict(gs.cv_results)\n",
        "results_df.head()"
      ],
      "metadata": {
        "colab": {
          "base_uri": "https://localhost:8080/",
          "height": 596
        },
        "id": "rN1ZUQ491XYV",
        "outputId": "f7976f5c-ba4e-486e-f457-f1abfa398f10"
      },
      "execution_count": 62,
      "outputs": [
        {
          "output_type": "execute_result",
          "data": {
            "text/plain": [
              "   split0_test_rmse  split1_test_rmse  split2_test_rmse  mean_test_rmse  \\\n",
              "0          0.943024          0.950079          0.936369        0.943157   \n",
              "1          0.946555          0.955157          0.940541        0.947417   \n",
              "2          0.952186          0.959947          0.945555        0.952563   \n",
              "3          0.905955          0.915138          0.899996        0.907030   \n",
              "4          0.912814          0.921901          0.907354        0.914023   \n",
              "\n",
              "   std_test_rmse  rank_test_rmse  split0_test_mae  split1_test_mae  \\\n",
              "0       0.005598              25         0.737100         0.742395   \n",
              "1       0.005998              26         0.742016         0.748207   \n",
              "2       0.005881              27         0.747955         0.753154   \n",
              "3       0.006228              11         0.700998         0.708463   \n",
              "4       0.006000              15         0.708680         0.715465   \n",
              "\n",
              "   split2_test_mae  mean_test_mae  std_test_mae  rank_test_mae  mean_fit_time  \\\n",
              "0         0.734702       0.738066      0.003214             25       5.256141   \n",
              "1         0.739415       0.743213      0.003688             26       5.190013   \n",
              "2         0.745360       0.748823      0.003241             27       5.051269   \n",
              "3         0.697810       0.702424      0.004464              9       4.984875   \n",
              "4         0.705933       0.710026      0.004006             15       4.906198   \n",
              "\n",
              "   std_fit_time  mean_test_time  std_test_time  \\\n",
              "0      0.544600        0.747652       0.092754   \n",
              "1      0.133586        0.708382       0.020937   \n",
              "2      0.086641        0.647866       0.029097   \n",
              "3      0.334665        0.603293       0.007895   \n",
              "4      0.314873        0.670600       0.105135   \n",
              "\n",
              "                                              params  param_n_epochs  \\\n",
              "0  {'n_epochs': 10, 'lr_all': 0.001, 'reg_all': 0.2}              10   \n",
              "1  {'n_epochs': 10, 'lr_all': 0.001, 'reg_all': 0.4}              10   \n",
              "2  {'n_epochs': 10, 'lr_all': 0.001, 'reg_all': 0.6}              10   \n",
              "3  {'n_epochs': 10, 'lr_all': 0.005, 'reg_all': 0.2}              10   \n",
              "4  {'n_epochs': 10, 'lr_all': 0.005, 'reg_all': 0.4}              10   \n",
              "\n",
              "   param_lr_all  param_reg_all  \n",
              "0         0.001            0.2  \n",
              "1         0.001            0.4  \n",
              "2         0.001            0.6  \n",
              "3         0.005            0.2  \n",
              "4         0.005            0.4  "
            ],
            "text/html": [
              "\n",
              "  <div id=\"df-1edbabf0-32ab-42c4-a0c4-d212b75499bc\">\n",
              "    <div class=\"colab-df-container\">\n",
              "      <div>\n",
              "<style scoped>\n",
              "    .dataframe tbody tr th:only-of-type {\n",
              "        vertical-align: middle;\n",
              "    }\n",
              "\n",
              "    .dataframe tbody tr th {\n",
              "        vertical-align: top;\n",
              "    }\n",
              "\n",
              "    .dataframe thead th {\n",
              "        text-align: right;\n",
              "    }\n",
              "</style>\n",
              "<table border=\"1\" class=\"dataframe\">\n",
              "  <thead>\n",
              "    <tr style=\"text-align: right;\">\n",
              "      <th></th>\n",
              "      <th>split0_test_rmse</th>\n",
              "      <th>split1_test_rmse</th>\n",
              "      <th>split2_test_rmse</th>\n",
              "      <th>mean_test_rmse</th>\n",
              "      <th>std_test_rmse</th>\n",
              "      <th>rank_test_rmse</th>\n",
              "      <th>split0_test_mae</th>\n",
              "      <th>split1_test_mae</th>\n",
              "      <th>split2_test_mae</th>\n",
              "      <th>mean_test_mae</th>\n",
              "      <th>std_test_mae</th>\n",
              "      <th>rank_test_mae</th>\n",
              "      <th>mean_fit_time</th>\n",
              "      <th>std_fit_time</th>\n",
              "      <th>mean_test_time</th>\n",
              "      <th>std_test_time</th>\n",
              "      <th>params</th>\n",
              "      <th>param_n_epochs</th>\n",
              "      <th>param_lr_all</th>\n",
              "      <th>param_reg_all</th>\n",
              "    </tr>\n",
              "  </thead>\n",
              "  <tbody>\n",
              "    <tr>\n",
              "      <th>0</th>\n",
              "      <td>0.943024</td>\n",
              "      <td>0.950079</td>\n",
              "      <td>0.936369</td>\n",
              "      <td>0.943157</td>\n",
              "      <td>0.005598</td>\n",
              "      <td>25</td>\n",
              "      <td>0.737100</td>\n",
              "      <td>0.742395</td>\n",
              "      <td>0.734702</td>\n",
              "      <td>0.738066</td>\n",
              "      <td>0.003214</td>\n",
              "      <td>25</td>\n",
              "      <td>5.256141</td>\n",
              "      <td>0.544600</td>\n",
              "      <td>0.747652</td>\n",
              "      <td>0.092754</td>\n",
              "      <td>{'n_epochs': 10, 'lr_all': 0.001, 'reg_all': 0.2}</td>\n",
              "      <td>10</td>\n",
              "      <td>0.001</td>\n",
              "      <td>0.2</td>\n",
              "    </tr>\n",
              "    <tr>\n",
              "      <th>1</th>\n",
              "      <td>0.946555</td>\n",
              "      <td>0.955157</td>\n",
              "      <td>0.940541</td>\n",
              "      <td>0.947417</td>\n",
              "      <td>0.005998</td>\n",
              "      <td>26</td>\n",
              "      <td>0.742016</td>\n",
              "      <td>0.748207</td>\n",
              "      <td>0.739415</td>\n",
              "      <td>0.743213</td>\n",
              "      <td>0.003688</td>\n",
              "      <td>26</td>\n",
              "      <td>5.190013</td>\n",
              "      <td>0.133586</td>\n",
              "      <td>0.708382</td>\n",
              "      <td>0.020937</td>\n",
              "      <td>{'n_epochs': 10, 'lr_all': 0.001, 'reg_all': 0.4}</td>\n",
              "      <td>10</td>\n",
              "      <td>0.001</td>\n",
              "      <td>0.4</td>\n",
              "    </tr>\n",
              "    <tr>\n",
              "      <th>2</th>\n",
              "      <td>0.952186</td>\n",
              "      <td>0.959947</td>\n",
              "      <td>0.945555</td>\n",
              "      <td>0.952563</td>\n",
              "      <td>0.005881</td>\n",
              "      <td>27</td>\n",
              "      <td>0.747955</td>\n",
              "      <td>0.753154</td>\n",
              "      <td>0.745360</td>\n",
              "      <td>0.748823</td>\n",
              "      <td>0.003241</td>\n",
              "      <td>27</td>\n",
              "      <td>5.051269</td>\n",
              "      <td>0.086641</td>\n",
              "      <td>0.647866</td>\n",
              "      <td>0.029097</td>\n",
              "      <td>{'n_epochs': 10, 'lr_all': 0.001, 'reg_all': 0.6}</td>\n",
              "      <td>10</td>\n",
              "      <td>0.001</td>\n",
              "      <td>0.6</td>\n",
              "    </tr>\n",
              "    <tr>\n",
              "      <th>3</th>\n",
              "      <td>0.905955</td>\n",
              "      <td>0.915138</td>\n",
              "      <td>0.899996</td>\n",
              "      <td>0.907030</td>\n",
              "      <td>0.006228</td>\n",
              "      <td>11</td>\n",
              "      <td>0.700998</td>\n",
              "      <td>0.708463</td>\n",
              "      <td>0.697810</td>\n",
              "      <td>0.702424</td>\n",
              "      <td>0.004464</td>\n",
              "      <td>9</td>\n",
              "      <td>4.984875</td>\n",
              "      <td>0.334665</td>\n",
              "      <td>0.603293</td>\n",
              "      <td>0.007895</td>\n",
              "      <td>{'n_epochs': 10, 'lr_all': 0.005, 'reg_all': 0.2}</td>\n",
              "      <td>10</td>\n",
              "      <td>0.005</td>\n",
              "      <td>0.2</td>\n",
              "    </tr>\n",
              "    <tr>\n",
              "      <th>4</th>\n",
              "      <td>0.912814</td>\n",
              "      <td>0.921901</td>\n",
              "      <td>0.907354</td>\n",
              "      <td>0.914023</td>\n",
              "      <td>0.006000</td>\n",
              "      <td>15</td>\n",
              "      <td>0.708680</td>\n",
              "      <td>0.715465</td>\n",
              "      <td>0.705933</td>\n",
              "      <td>0.710026</td>\n",
              "      <td>0.004006</td>\n",
              "      <td>15</td>\n",
              "      <td>4.906198</td>\n",
              "      <td>0.314873</td>\n",
              "      <td>0.670600</td>\n",
              "      <td>0.105135</td>\n",
              "      <td>{'n_epochs': 10, 'lr_all': 0.005, 'reg_all': 0.4}</td>\n",
              "      <td>10</td>\n",
              "      <td>0.005</td>\n",
              "      <td>0.4</td>\n",
              "    </tr>\n",
              "  </tbody>\n",
              "</table>\n",
              "</div>\n",
              "      <button class=\"colab-df-convert\" onclick=\"convertToInteractive('df-1edbabf0-32ab-42c4-a0c4-d212b75499bc')\"\n",
              "              title=\"Convert this dataframe to an interactive table.\"\n",
              "              style=\"display:none;\">\n",
              "        \n",
              "  <svg xmlns=\"http://www.w3.org/2000/svg\" height=\"24px\"viewBox=\"0 0 24 24\"\n",
              "       width=\"24px\">\n",
              "    <path d=\"M0 0h24v24H0V0z\" fill=\"none\"/>\n",
              "    <path d=\"M18.56 5.44l.94 2.06.94-2.06 2.06-.94-2.06-.94-.94-2.06-.94 2.06-2.06.94zm-11 1L8.5 8.5l.94-2.06 2.06-.94-2.06-.94L8.5 2.5l-.94 2.06-2.06.94zm10 10l.94 2.06.94-2.06 2.06-.94-2.06-.94-.94-2.06-.94 2.06-2.06.94z\"/><path d=\"M17.41 7.96l-1.37-1.37c-.4-.4-.92-.59-1.43-.59-.52 0-1.04.2-1.43.59L10.3 9.45l-7.72 7.72c-.78.78-.78 2.05 0 2.83L4 21.41c.39.39.9.59 1.41.59.51 0 1.02-.2 1.41-.59l7.78-7.78 2.81-2.81c.8-.78.8-2.07 0-2.86zM5.41 20L4 18.59l7.72-7.72 1.47 1.35L5.41 20z\"/>\n",
              "  </svg>\n",
              "      </button>\n",
              "      \n",
              "  <style>\n",
              "    .colab-df-container {\n",
              "      display:flex;\n",
              "      flex-wrap:wrap;\n",
              "      gap: 12px;\n",
              "    }\n",
              "\n",
              "    .colab-df-convert {\n",
              "      background-color: #E8F0FE;\n",
              "      border: none;\n",
              "      border-radius: 50%;\n",
              "      cursor: pointer;\n",
              "      display: none;\n",
              "      fill: #1967D2;\n",
              "      height: 32px;\n",
              "      padding: 0 0 0 0;\n",
              "      width: 32px;\n",
              "    }\n",
              "\n",
              "    .colab-df-convert:hover {\n",
              "      background-color: #E2EBFA;\n",
              "      box-shadow: 0px 1px 2px rgba(60, 64, 67, 0.3), 0px 1px 3px 1px rgba(60, 64, 67, 0.15);\n",
              "      fill: #174EA6;\n",
              "    }\n",
              "\n",
              "    [theme=dark] .colab-df-convert {\n",
              "      background-color: #3B4455;\n",
              "      fill: #D2E3FC;\n",
              "    }\n",
              "\n",
              "    [theme=dark] .colab-df-convert:hover {\n",
              "      background-color: #434B5C;\n",
              "      box-shadow: 0px 1px 3px 1px rgba(0, 0, 0, 0.15);\n",
              "      filter: drop-shadow(0px 1px 2px rgba(0, 0, 0, 0.3));\n",
              "      fill: #FFFFFF;\n",
              "    }\n",
              "  </style>\n",
              "\n",
              "      <script>\n",
              "        const buttonEl =\n",
              "          document.querySelector('#df-1edbabf0-32ab-42c4-a0c4-d212b75499bc button.colab-df-convert');\n",
              "        buttonEl.style.display =\n",
              "          google.colab.kernel.accessAllowed ? 'block' : 'none';\n",
              "\n",
              "        async function convertToInteractive(key) {\n",
              "          const element = document.querySelector('#df-1edbabf0-32ab-42c4-a0c4-d212b75499bc');\n",
              "          const dataTable =\n",
              "            await google.colab.kernel.invokeFunction('convertToInteractive',\n",
              "                                                     [key], {});\n",
              "          if (!dataTable) return;\n",
              "\n",
              "          const docLinkHtml = 'Like what you see? Visit the ' +\n",
              "            '<a target=\"_blank\" href=https://colab.research.google.com/notebooks/data_table.ipynb>data table notebook</a>'\n",
              "            + ' to learn more about interactive tables.';\n",
              "          element.innerHTML = '';\n",
              "          dataTable['output_type'] = 'display_data';\n",
              "          await google.colab.output.renderOutput(dataTable, element);\n",
              "          const docLink = document.createElement('div');\n",
              "          docLink.innerHTML = docLinkHtml;\n",
              "          element.appendChild(docLink);\n",
              "        }\n",
              "      </script>\n",
              "    </div>\n",
              "  </div>\n",
              "  "
            ]
          },
          "metadata": {},
          "execution_count": 62
        }
      ]
    },
    {
      "cell_type": "markdown",
      "source": [
        "Now, we will **the build final model** by using **tuned values** of the hyperparameters, which we received using grid search cross-validation above."
      ],
      "metadata": {
        "id": "sYR35UAH4md5"
      }
    },
    {
      "cell_type": "code",
      "source": [
        "# Buildihg the optimized SVD model using optimal hyperparameter search\n",
        "svd_algo_optimized = SVD (n_epochs = 30, lr_all = 0.01, reg_all = 0.2)\n",
        "# Training the algorithm on the trainset\n",
        "svd_algo_optimized.fit(trainset)\n",
        "# Predicting ratings for the testset\n",
        "predictions = svd_algo_optimized.test(testset)\n",
        "# Computing RMSE\n",
        "accuracy.rmse(predictions)"
      ],
      "metadata": {
        "colab": {
          "base_uri": "https://localhost:8080/"
        },
        "id": "U26Lg2VI4hES",
        "outputId": "6d75cc15-4e8c-4769-d02b-9737181e8ff9"
      },
      "execution_count": 63,
      "outputs": [
        {
          "output_type": "stream",
          "name": "stdout",
          "text": [
            "RMSE: 0.8950\n"
          ]
        },
        {
          "output_type": "execute_result",
          "data": {
            "text/plain": [
              "0.8950402493313158"
            ]
          },
          "metadata": {},
          "execution_count": 63
        }
      ]
    },
    {
      "cell_type": "markdown",
      "source": [
        "**Write your Answer here:** After tuning the hyperparamaters, this SVD model give us RMSE 0.8952, which is the best RMSE so far comparing to all the other models"
      ],
      "metadata": {
        "id": "HGJBSFdu5ZJJ"
      }
    },
    {
      "cell_type": "markdown",
      "source": [
        "**Q 5.4 What is the Predicted rating for an user with userId =4 and for movieId= 10 and movieId=3 using SVD based collaborative filtering?**"
      ],
      "metadata": {
        "id": "ma8HTxhl5JHJ"
      }
    },
    {
      "cell_type": "markdown",
      "source": [
        "Let's us now predict rating for an user with userId=4 and for movieId=10 with the optimized model"
      ],
      "metadata": {
        "id": "-TUnn-FV5Osf"
      }
    },
    {
      "cell_type": "code",
      "source": [
        "svd_algo_optimized.predict(4,10, r_ui = 4, verbose = True)"
      ],
      "metadata": {
        "colab": {
          "base_uri": "https://localhost:8080/"
        },
        "id": "FX0UMIY55EKp",
        "outputId": "4a1ac70b-a147-42db-ef7c-fd9efc31beac"
      },
      "execution_count": 64,
      "outputs": [
        {
          "output_type": "stream",
          "name": "stdout",
          "text": [
            "user: 4          item: 10         r_ui = 4.00   est = 3.99   {'was_impossible': False}\n"
          ]
        },
        {
          "output_type": "execute_result",
          "data": {
            "text/plain": [
              "Prediction(uid=4, iid=10, r_ui=4, est=3.99188693440083, details={'was_impossible': False})"
            ]
          },
          "metadata": {},
          "execution_count": 64
        }
      ]
    },
    {
      "cell_type": "markdown",
      "source": [
        "**Write your Answer here:** This model also predicted user4 for movieId 10's rating will be 3.98, which is the cloest one comparing to all other models"
      ],
      "metadata": {
        "id": "YPH1mSGZ5t3j"
      }
    },
    {
      "cell_type": "markdown",
      "source": [
        "Let's predict the rating for the same userId=4 but for a movie which this user has not interacted before i.e. movieId=3"
      ],
      "metadata": {
        "id": "uxA7BejK6O_j"
      }
    },
    {
      "cell_type": "code",
      "source": [
        "svd_algo_optimized.predict(4,3,verbose = True)"
      ],
      "metadata": {
        "colab": {
          "base_uri": "https://localhost:8080/"
        },
        "id": "R-gEkdra5U6M",
        "outputId": "49b24e96-4d93-4d7a-a644-2219e9119f3b"
      },
      "execution_count": 65,
      "outputs": [
        {
          "output_type": "stream",
          "name": "stdout",
          "text": [
            "user: 4          item: 3          r_ui = None   est = 3.63   {'was_impossible': False}\n"
          ]
        },
        {
          "output_type": "execute_result",
          "data": {
            "text/plain": [
              "Prediction(uid=4, iid=3, r_ui=None, est=3.628891615346827, details={'was_impossible': False})"
            ]
          },
          "metadata": {},
          "execution_count": 65
        }
      ]
    },
    {
      "cell_type": "markdown",
      "source": [
        "**Q 5.5 Predict the top 5 movies for userId=4 with SVD based recommendation system?**"
      ],
      "metadata": {
        "id": "Fm987Iyg6bo5"
      }
    },
    {
      "cell_type": "code",
      "source": [
        "get_recommendations (rating, 4, 5, svd_algo_optimized)"
      ],
      "metadata": {
        "colab": {
          "base_uri": "https://localhost:8080/"
        },
        "id": "F-9TYXHm6V1O",
        "outputId": "19611846-cfb2-49fb-ac40-1ae8e4f1fce2"
      },
      "execution_count": 66,
      "outputs": [
        {
          "output_type": "execute_result",
          "data": {
            "text/plain": [
              "[(3310, 4.970467846005805),\n",
              " (926, 4.947698038814595),\n",
              " (1192, 4.947664314795844),\n",
              " (1948, 4.9441186154445935),\n",
              " (116, 4.926119341375597)]"
            ]
          },
          "metadata": {},
          "execution_count": 66
        }
      ]
    },
    {
      "cell_type": "markdown",
      "source": [
        "**Predicting ratings for already interacted movies**"
      ],
      "metadata": {
        "id": "jsc7XcEk6seP"
      }
    },
    {
      "cell_type": "markdown",
      "source": [
        "Below we are comparing the rating predictions of users for those movies which has been already watched by an user. This will help us to understand how well are predictions are as compared to the actual ratings provided by users"
      ],
      "metadata": {
        "id": "KFFuMZ5N7TR9"
      }
    },
    {
      "cell_type": "code",
      "source": [
        "def predict_already_interacted_ratings(data, user_id, algo):\n",
        "    \n",
        "    # Creating an empty list to store the recommended movie ids\n",
        "    recommendations = []\n",
        "    \n",
        "    # Creating an user item interactions matrix \n",
        "    user_item_interactions_matrix = data.pivot(index='userId', columns='movieId', values='rating')\n",
        "    \n",
        "    # Extracting those movie ids which the user_id has interacted already\n",
        "    interacted_movies = user_item_interactions_matrix.loc[user_id][user_item_interactions_matrix.loc[user_id].notnull()].index.tolist()\n",
        "    \n",
        "    # Looping through each of the movie id which user_id has interacted already\n",
        "    for item_id in interacted_movies:\n",
        "        \n",
        "        # Extracting actual ratings\n",
        "        actual_rating = user_item_interactions_matrix.loc[user_id, item_id]\n",
        "        \n",
        "        # Predicting the ratings for those non interacted movie ids by this user\n",
        "        predicted_rating = algo.predict(user_id, item_id).est\n",
        "        \n",
        "        # Appending the predicted ratings\n",
        "        recommendations.append((item_id, actual_rating, predicted_rating))\n",
        "\n",
        "    # Sorting the predicted ratings in descending order\n",
        "    recommendations.sort(key=lambda x: x[1], reverse=True)\n",
        "\n",
        "    return pd.DataFrame(recommendations, columns=['movieId', 'actual_rating', 'predicted_rating']) # returing top n highest predicted rating movies for this user"
      ],
      "metadata": {
        "id": "gA9qOByU-PLw"
      },
      "execution_count": 67,
      "outputs": []
    },
    {
      "cell_type": "markdown",
      "source": [
        "Here we are comparing the predicted ratings by similarity based recommendation system against actual ratings for userId=7\n"
      ],
      "metadata": {
        "id": "TjaTTidn-dhv"
      }
    },
    {
      "cell_type": "code",
      "source": [
        "predicted_ratings_for_interacted_movies = predict_already_interacted_ratings(rating, 7, similarity_algo_optimized_item)\n",
        "df = predicted_ratings_for_interacted_movies.melt(id_vars='movieId', value_vars=['actual_rating', 'predicted_rating'])\n",
        "sns.displot(data=df, x='value', hue='variable', kde=True);"
      ],
      "metadata": {
        "colab": {
          "base_uri": "https://localhost:8080/",
          "height": 369
        },
        "id": "TOLze5tD-pMj",
        "outputId": "86e1dded-3131-467e-938b-2089442d1c98"
      },
      "execution_count": 68,
      "outputs": [
        {
          "output_type": "display_data",
          "data": {
            "text/plain": [
              "<Figure size 478.125x360 with 1 Axes>"
            ],
            "image/png": "[encoded data removed]"
          },
          "metadata": {
            "needs_background": "light"
          }
        }
      ]
    },
    {
      "cell_type": "markdown",
      "source": [
        "**Write your Answer here:**  \n",
        "The distribution of predicted rating is similar to the distribution of actual ratings between rating 3-4 range.\n",
        "There are some actual rating fall in rating 5 while was not predicted by the model"
      ],
      "metadata": {
        "id": "nqeX1td9-oyj"
      }
    },
    {
      "cell_type": "markdown",
      "source": [
        "Below we are comparing the predicted ratings by matrix factorization based recommendation system against actual ratings for userId=7"
      ],
      "metadata": {
        "id": "freBPpFkAujs"
      }
    },
    {
      "cell_type": "code",
      "source": [
        "predicted_ratings_for_interacted_movies = predict_already_interacted_ratings(rating, 7, svd_algo_optimized)\n",
        "df = predicted_ratings_for_interacted_movies.melt(id_vars='movieId', value_vars=['actual_rating', 'predicted_rating'])\n",
        "sns.displot(data=df, x='value', hue='variable', kde=True)"
      ],
      "metadata": {
        "colab": {
          "base_uri": "https://localhost:8080/",
          "height": 386
        },
        "id": "gL3cZl_G9Pji",
        "outputId": "4053d542-2e58-488f-d330-766361a2bde8"
      },
      "execution_count": 69,
      "outputs": [
        {
          "output_type": "execute_result",
          "data": {
            "text/plain": [
              "<seaborn.axisgrid.FacetGrid at 0x7f703652b150>"
            ]
          },
          "metadata": {},
          "execution_count": 69
        },
        {
          "output_type": "display_data",
          "data": {
            "text/plain": [
              "<Figure size 478.125x360 with 1 Axes>"
            ],
            "image/png": "[encoded data removed]"
          },
          "metadata": {
            "needs_background": "light"
          }
        }
      ]
    },
    {
      "cell_type": "code",
      "source": [
        "# Instantiating Reder scale with expected rating scale\n",
        "reader = Reader(rating_scale = (0,5))\n",
        "# Loading the rating dataset\n",
        "data = Dataset.load_from_df(rating[['userId', 'movieId', 'rating']], reader)\n",
        "# Splitting the data into train and test dataset\n",
        "trainset, testset = train_test_split(data, test_size = 0.2, random_state = 42)"
      ],
      "metadata": {
        "id": "CzqTSx9q9eVb"
      },
      "execution_count": 70,
      "outputs": []
    },
    {
      "cell_type": "markdown",
      "source": [
        "**Precision and Recall @ k**\n",
        "\n",
        "RMSE is not the only metric we can use here. We can also examine two fundamental measures, precision and recall. We also add a parameter k which is helpful in understanding problems with multiple rating outputs.\n",
        "\n",
        "**Precision@k** - It is the **fraction of recommended items that are relevant in top k predictions**. Value of k is the number of recommendations to be provided to the user. One can choose a variable number of recommendations to be given to a unique user.\n",
        "\n",
        "\n",
        "\n",
        "**Recall@k** - It is **the fraction of relevant items that are recommended to the user in top k predictions**.\n",
        "\n",
        "\n",
        "**Recall** - It is the **fraction of actually relevant items that are recommended to the user** i.e. if out of 10 relevant movies, 6 are recommended to the user then recall is 0.60. Higher the value of recall better is the model. It is one of the metrics to do the performance assessment of classification models.\n",
        "\n",
        "\n",
        "**Precision** - It is the **fraction of recommended items that are relevant actually** i.e. if out of 10 recommended items, 6 are found relevant by the user then precision is 0.60. The higher the value of precision better is the model. It is one of the metrics to do the performance assessment of classification models.\n",
        "\n",
        "See the Precision and Recall @ k section of your notebook and follow the instructions to compute various precision/recall values at various values of k."
      ],
      "metadata": {
        "id": "SvUtHZLbButN"
      }
    },
    {
      "cell_type": "markdown",
      "source": [
        "**Question6: Compute the precision and recall, for each of the 6 models, at k = 5 and 10. This is 6 x 2 = 12 numerical values?**"
      ],
      "metadata": {
        "id": "g_Wob5dfCqtL"
      }
    },
    {
      "cell_type": "code",
      "source": [
        "# Function can be found on surprise documentation FAQs\n",
        "def precision_recall_at_k(predictions, k=10, threshold=3.5):\n",
        "    \"\"\"Return precision and recall at k metrics for each user\"\"\"\n",
        "\n",
        "    # First map the predictions to each user.\n",
        "    user_est_true = defaultdict(list)\n",
        "    for uid, _, true_r, est, _ in predictions:\n",
        "        user_est_true[uid].append((est, true_r))\n",
        "\n",
        "    precisions = dict()\n",
        "    recalls = dict()\n",
        "    for uid, user_ratings in user_est_true.items():\n",
        "\n",
        "        # Sort user ratings by estimated value\n",
        "        user_ratings.sort(key=lambda x: x[0], reverse=True)\n",
        "\n",
        "        # Number of relevant items\n",
        "        n_rel = sum((true_r >= threshold) for (_, true_r) in user_ratings)\n",
        "\n",
        "        # Number of recommended items in top k\n",
        "        n_rec_k = sum((est >= threshold) for (est, _) in user_ratings[:k])\n",
        "\n",
        "        # Number of relevant and recommended items in top k\n",
        "        n_rel_and_rec_k = sum(((true_r >= threshold) and (est >= threshold))\n",
        "                              for (est, true_r) in user_ratings[:k])\n",
        "\n",
        "        # Precision@K: Proportion of recommended items that are relevant\n",
        "        # When n_rec_k is 0, Precision is undefined. We here set it to 0.\n",
        "\n",
        "        precisions[uid] = n_rel_and_rec_k / n_rec_k if n_rec_k != 0 else 0\n",
        "\n",
        "        # Recall@K: Proportion of relevant items that are recommended\n",
        "        # When n_rel is 0, Recall is undefined. We here set it to 0.\n",
        "\n",
        "        recalls[uid] = n_rel_and_rec_k / n_rel if n_rel != 0 else 0\n",
        "\n",
        "    return precisions, recalls"
      ],
      "metadata": {
        "id": "XackiGI9Br3Q"
      },
      "execution_count": 71,
      "outputs": []
    },
    {
      "cell_type": "code",
      "source": [
        "# A basic cross-validation iterator\n",
        "from surprise.model_selection import KFold\n",
        "kf = KFold (n_splits = 5)\n",
        "# Make list of k values\n",
        "K = [5,10]\n",
        "# Make list of models\n",
        "models = [algo_knn_user, similarity_algo_optimized_user, algo_knn_item, similarity_algo_optimized_item, algo_svd, svd_algo_optimized]\n",
        "\n",
        "for k in K:\n",
        "    for model in models:\n",
        "        print('> k={}, model={}'.format(k,model.__class__.__name__))\n",
        "        p = []\n",
        "        r = []\n",
        "        for trainset, testset in kf.split(data):\n",
        "            model.fit(trainset)\n",
        "            predictions = model.test(testset, verbose=False)\n",
        "            precisions, recalls = precision_recall_at_k(predictions, k=k, threshold=3.5)\n",
        "\n",
        "            # Precision and recall can then be averaged over all users\n",
        "            p.append(sum(prec for prec in precisions.values()) / len(precisions))\n",
        "            r.append(sum(rec for rec in recalls.values()) / len(recalls))\n",
        "        \n",
        "        print('-----> Precision: ', round(sum(p) / len(p), 3))\n",
        "        print('-----> Recall: ', round(sum(r) / len(r), 3))"
      ],
      "metadata": {
        "colab": {
          "base_uri": "https://localhost:8080/"
        },
        "id": "wguB-0HEC5fO",
        "outputId": "afe4cb93-dd33-4fe4-a0d6-139444e11950"
      },
      "execution_count": 75,
      "outputs": [
        {
          "output_type": "stream",
          "name": "stdout",
          "text": [
            "> k=5, model=KNNBasic\n",
            "-----> Precision:  0.766\n",
            "-----> Recall:  0.409\n",
            "> k=5, model=KNNBasic\n",
            "-----> Precision:  0.776\n",
            "-----> Recall:  0.421\n",
            "> k=5, model=KNNBasic\n",
            "-----> Precision:  0.606\n",
            "-----> Recall:  0.326\n",
            "> k=5, model=KNNBasic\n",
            "-----> Precision:  0.681\n",
            "-----> Recall:  0.352\n",
            "> k=5, model=SVD\n",
            "-----> Precision:  0.751\n",
            "-----> Recall:  0.379\n",
            "> k=5, model=SVD\n",
            "-----> Precision:  0.749\n",
            "-----> Recall:  0.385\n",
            "> k=10, model=KNNBasic\n",
            "-----> Precision:  0.749\n",
            "-----> Recall:  0.55\n",
            "> k=10, model=KNNBasic\n",
            "-----> Precision:  0.751\n",
            "-----> Recall:  0.556\n",
            "> k=10, model=KNNBasic\n",
            "-----> Precision:  0.597\n",
            "-----> Recall:  0.477\n",
            "> k=10, model=KNNBasic\n",
            "-----> Precision:  0.659\n",
            "-----> Recall:  0.504\n",
            "> k=10, model=SVD\n",
            "-----> Precision:  0.734\n",
            "-----> Recall:  0.523\n",
            "> k=10, model=SVD\n",
            "-----> Precision:  0.726\n",
            "-----> Recall:  0.521\n"
          ]
        }
      ]
    },
    {
      "cell_type": "markdown",
      "source": [
        "# **Question 7**"
      ],
      "metadata": {
        "id": "3O44ubvWh826"
      }
    },
    {
      "cell_type": "markdown",
      "source": [
        "**7.1 Compare the results from the base line user-user and item-item based models.**"
      ],
      "metadata": {
        "id": "QDITHapXiA1F"
      }
    },
    {
      "cell_type": "markdown",
      "source": [
        "**Write your Answer here:** \n",
        "The user-based model has RMSE values at 0.99, while the item-based model has about the same RMSE values (1.00)\n",
        "\n"
      ],
      "metadata": {
        "id": "MOfRTD8viD4u"
      }
    },
    {
      "cell_type": "markdown",
      "source": [
        "**7.2 How do these baseline models compare to each other with respect to the tuned user-user and item-item models?**"
      ],
      "metadata": {
        "id": "d2VbLawbkCRc"
      }
    },
    {
      "cell_type": "markdown",
      "source": [
        "**Write your Answer here:**After tuned, both user-based model and item-based model improve a little bit, with RMSE value of 0.95 (user-based model) and 0.94 (item-based model)"
      ],
      "metadata": {
        "id": "5LxkpYuRkD0s"
      }
    },
    {
      "cell_type": "markdown",
      "source": [
        "**7.3 The matrix factorization model is different from the collaborative filtering models. Briefly describe this difference. Also, compare the RMSE and precision recall for the models.**"
      ],
      "metadata": {
        "id": "wJ3nYu5skdcJ"
      }
    },
    {
      "cell_type": "markdown",
      "source": [
        "**Write your Answer here:** Collaborative filtering models is using neighbor-seach method.  But Matrix factorization will separate the user-item matrix to two different matrixs with one focus on user-feature; the other one is focus on feature-item.  \n",
        "\n",
        "The RMSE for Matrix Factorization after final tuning is about 0.89, which is better than user-based or item-based model\n",
        "\n",
        "The Precision score after tuned for these three models are: 0.776(user-based), 0.681(item-based), 0.749(maxtrix-factorization) when k = 5 and 0.751 (user-based), 0.659(item-based), 0.726(matrix-factorization) when k = 10.\n",
        "\n",
        "The Recall score after tuned for these three modesl are :  0.421(user-based), 0.352 (item-based), 0.385 (matrix-factorization) when k = 5 and 0.556(user-based), 0.504 (item-based), 0.521 (matrix-factorization) when k = 10\n",
        "\n",
        "\n"
      ],
      "metadata": {
        "id": "j4NvgHNlkkEt"
      }
    },
    {
      "cell_type": "markdown",
      "source": [
        "**7.4 Does it improve? Can you offer any reasoning as to why that might be?**"
      ],
      "metadata": {
        "id": "kzQvg6hinHKh"
      }
    },
    {
      "cell_type": "markdown",
      "source": [
        "**Write your Answer here:** The RMSE is improved with SVD model.  But the Precision and Recall are not improved with SVD model.  \n",
        "\n",
        "SVD model has lower because it assumes that both items and users are present in low dimensional space."
      ],
      "metadata": {
        "id": "z_n56eVFnJHP"
      }
    },
    {
      "cell_type": "code",
      "source": [
        ""
      ],
      "metadata": {
        "id": "C2L7HgvXDNyX"
      },
      "execution_count": null,
      "outputs": []
    }
  ]
}